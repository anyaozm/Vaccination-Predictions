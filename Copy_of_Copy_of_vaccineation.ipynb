{
  "nbformat": 4,
  "nbformat_minor": 0,
  "metadata": {
    "colab": {
      "name": "Copy of Copy of vaccineation.ipynb",
      "provenance": [],
      "collapsed_sections": [],
      "authorship_tag": "ABX9TyPrx5RzvJdu71WinLjIbEbF",
      "include_colab_link": true
    },
    "kernelspec": {
      "name": "python3",
      "display_name": "Python 3"
    }
  },
  "cells": [
    {
      "cell_type": "markdown",
      "metadata": {
        "id": "view-in-github",
        "colab_type": "text"
      },
      "source": [
        "<a href=\"https://colab.research.google.com/github/anyaozm/Vaccination-Predictions/blob/master/Copy_of_Copy_of_vaccineation.ipynb\" target=\"_parent\"><img src=\"https://colab.research.google.com/assets/colab-badge.svg\" alt=\"Open In Colab\"/></a>"
      ]
    },
    {
      "cell_type": "code",
      "metadata": {
        "id": "iumVyGPuwXdA",
        "colab_type": "code",
        "colab": {}
      },
      "source": [
        "import pandas as pd\n",
        "import numpy as np\n",
        "import matplotlib.pyplot as plt\n",
        "import seaborn as sns\n",
        "seed = 13"
      ],
      "execution_count": 0,
      "outputs": []
    },
    {
      "cell_type": "code",
      "metadata": {
        "id": "KGo8qwp4gGUZ",
        "colab_type": "code",
        "colab": {}
      },
      "source": [
        "from keras.models import Sequential\n",
        "from keras.layers import Dense\n",
        "from keras.wrappers.scikit_learn import KerasClassifier\n",
        "from sklearn.model_selection import cross_val_score\n",
        "from sklearn.preprocessing import LabelEncoder\n",
        "from sklearn.model_selection import StratifiedKFold\n",
        "from sklearn.preprocessing import StandardScaler\n",
        "from sklearn.pipeline import Pipeline\n",
        "from sklearn import tree\n",
        "from sklearn.svm import LinearSVC\n",
        "from sklearn.neighbors import KNeighborsClassifier"
      ],
      "execution_count": 0,
      "outputs": []
    },
    {
      "cell_type": "code",
      "metadata": {
        "id": "2LA6r0POZb0I",
        "colab_type": "code",
        "colab": {}
      },
      "source": [
        "from sklearn.feature_selection import VarianceThreshold\n",
        "from sklearn.svm import SVC\n",
        "from sklearn.model_selection import StratifiedKFold\n",
        "from sklearn.feature_selection import RFECV,SelectFromModel\n",
        "from sklearn.datasets import make_classification\n",
        "from sklearn import preprocessing\n",
        "from sklearn.model_selection import train_test_split\n",
        "from sklearn.preprocessing import MinMaxScaler,StandardScaler\n",
        "from sklearn.pipeline import Pipeline, make_pipeline\n",
        "from sklearn.svm import LinearSVC\n",
        "from sklearn.feature_selection import SelectKBest, chi2, f_classif\n",
        "from sklearn.ensemble import RandomForestClassifier\n",
        "from sklearn.preprocessing import StandardScaler\n",
        "from sklearn.impute import SimpleImputer\n",
        "from sklearn.compose import ColumnTransformer\n",
        "from sklearn.linear_model import LogisticRegression\n",
        "from sklearn.multioutput import MultiOutputClassifier\n",
        "from sklearn.model_selection import train_test_split\n",
        "from sklearn.metrics import roc_curve, roc_auc_score\n",
        "from sklearn.tree import DecisionTreeClassifier, DecisionTreeRegressor"
      ],
      "execution_count": 0,
      "outputs": []
    },
    {
      "cell_type": "code",
      "metadata": {
        "id": "T5H4GayhwYWJ",
        "colab_type": "code",
        "colab": {}
      },
      "source": [
        "#File paths\n",
        "path_sub = '/content/submission_format.csv'\n",
        "path_test = '/content/test_set_features.csv'\n",
        "path_train_x = '/content/training_set_features.csv'\n",
        "path_train_y = '/content/training_set_labels.csv'"
      ],
      "execution_count": 0,
      "outputs": []
    },
    {
      "cell_type": "code",
      "metadata": {
        "id": "L4-ThUxUxN1P",
        "colab_type": "code",
        "colab": {}
      },
      "source": [
        "#DataFrames\n",
        "df_trainx = pd.read_csv(path_train_x, index_col=0)\n",
        "df_trainy = pd.read_csv(path_train_y, index_col=0)"
      ],
      "execution_count": 0,
      "outputs": []
    },
    {
      "cell_type": "code",
      "metadata": {
        "id": "nYqC3wyNiyhX",
        "colab_type": "code",
        "outputId": "3442ad80-4b8d-4986-bde2-c963ac4d6023",
        "colab": {
          "base_uri": "https://localhost:8080/",
          "height": 235
        }
      },
      "source": [
        "#Display Data\n",
        "df_trainy.head()"
      ],
      "execution_count": 683,
      "outputs": [
        {
          "output_type": "execute_result",
          "data": {
            "text/html": [
              "<div>\n",
              "<style scoped>\n",
              "    .dataframe tbody tr th:only-of-type {\n",
              "        vertical-align: middle;\n",
              "    }\n",
              "\n",
              "    .dataframe tbody tr th {\n",
              "        vertical-align: top;\n",
              "    }\n",
              "\n",
              "    .dataframe thead th {\n",
              "        text-align: right;\n",
              "    }\n",
              "</style>\n",
              "<table border=\"1\" class=\"dataframe\">\n",
              "  <thead>\n",
              "    <tr style=\"text-align: right;\">\n",
              "      <th></th>\n",
              "      <th>h1n1_vaccine</th>\n",
              "      <th>seasonal_vaccine</th>\n",
              "    </tr>\n",
              "    <tr>\n",
              "      <th>respondent_id</th>\n",
              "      <th></th>\n",
              "      <th></th>\n",
              "    </tr>\n",
              "  </thead>\n",
              "  <tbody>\n",
              "    <tr>\n",
              "      <th>0</th>\n",
              "      <td>0</td>\n",
              "      <td>0</td>\n",
              "    </tr>\n",
              "    <tr>\n",
              "      <th>1</th>\n",
              "      <td>0</td>\n",
              "      <td>1</td>\n",
              "    </tr>\n",
              "    <tr>\n",
              "      <th>2</th>\n",
              "      <td>0</td>\n",
              "      <td>0</td>\n",
              "    </tr>\n",
              "    <tr>\n",
              "      <th>3</th>\n",
              "      <td>0</td>\n",
              "      <td>1</td>\n",
              "    </tr>\n",
              "    <tr>\n",
              "      <th>4</th>\n",
              "      <td>0</td>\n",
              "      <td>0</td>\n",
              "    </tr>\n",
              "  </tbody>\n",
              "</table>\n",
              "</div>"
            ],
            "text/plain": [
              "               h1n1_vaccine  seasonal_vaccine\n",
              "respondent_id                                \n",
              "0                         0                 0\n",
              "1                         0                 1\n",
              "2                         0                 0\n",
              "3                         0                 1\n",
              "4                         0                 0"
            ]
          },
          "metadata": {
            "tags": []
          },
          "execution_count": 683
        }
      ]
    },
    {
      "cell_type": "code",
      "metadata": {
        "id": "6jZS2QUZxN3f",
        "colab_type": "code",
        "outputId": "09302e90-7417-483b-a77a-24a9527007ef",
        "colab": {
          "base_uri": "https://localhost:8080/",
          "height": 340
        }
      },
      "source": [
        "df_trainx.head()"
      ],
      "execution_count": 684,
      "outputs": [
        {
          "output_type": "execute_result",
          "data": {
            "text/html": [
              "<div>\n",
              "<style scoped>\n",
              "    .dataframe tbody tr th:only-of-type {\n",
              "        vertical-align: middle;\n",
              "    }\n",
              "\n",
              "    .dataframe tbody tr th {\n",
              "        vertical-align: top;\n",
              "    }\n",
              "\n",
              "    .dataframe thead th {\n",
              "        text-align: right;\n",
              "    }\n",
              "</style>\n",
              "<table border=\"1\" class=\"dataframe\">\n",
              "  <thead>\n",
              "    <tr style=\"text-align: right;\">\n",
              "      <th></th>\n",
              "      <th>h1n1_concern</th>\n",
              "      <th>h1n1_knowledge</th>\n",
              "      <th>behavioral_antiviral_meds</th>\n",
              "      <th>behavioral_avoidance</th>\n",
              "      <th>behavioral_face_mask</th>\n",
              "      <th>behavioral_wash_hands</th>\n",
              "      <th>behavioral_large_gatherings</th>\n",
              "      <th>behavioral_outside_home</th>\n",
              "      <th>behavioral_touch_face</th>\n",
              "      <th>doctor_recc_h1n1</th>\n",
              "      <th>doctor_recc_seasonal</th>\n",
              "      <th>chronic_med_condition</th>\n",
              "      <th>child_under_6_months</th>\n",
              "      <th>health_worker</th>\n",
              "      <th>health_insurance</th>\n",
              "      <th>opinion_h1n1_vacc_effective</th>\n",
              "      <th>opinion_h1n1_risk</th>\n",
              "      <th>opinion_h1n1_sick_from_vacc</th>\n",
              "      <th>opinion_seas_vacc_effective</th>\n",
              "      <th>opinion_seas_risk</th>\n",
              "      <th>opinion_seas_sick_from_vacc</th>\n",
              "      <th>age_group</th>\n",
              "      <th>education</th>\n",
              "      <th>race</th>\n",
              "      <th>sex</th>\n",
              "      <th>income_poverty</th>\n",
              "      <th>marital_status</th>\n",
              "      <th>rent_or_own</th>\n",
              "      <th>employment_status</th>\n",
              "      <th>hhs_geo_region</th>\n",
              "      <th>census_msa</th>\n",
              "      <th>household_adults</th>\n",
              "      <th>household_children</th>\n",
              "      <th>employment_industry</th>\n",
              "      <th>employment_occupation</th>\n",
              "    </tr>\n",
              "    <tr>\n",
              "      <th>respondent_id</th>\n",
              "      <th></th>\n",
              "      <th></th>\n",
              "      <th></th>\n",
              "      <th></th>\n",
              "      <th></th>\n",
              "      <th></th>\n",
              "      <th></th>\n",
              "      <th></th>\n",
              "      <th></th>\n",
              "      <th></th>\n",
              "      <th></th>\n",
              "      <th></th>\n",
              "      <th></th>\n",
              "      <th></th>\n",
              "      <th></th>\n",
              "      <th></th>\n",
              "      <th></th>\n",
              "      <th></th>\n",
              "      <th></th>\n",
              "      <th></th>\n",
              "      <th></th>\n",
              "      <th></th>\n",
              "      <th></th>\n",
              "      <th></th>\n",
              "      <th></th>\n",
              "      <th></th>\n",
              "      <th></th>\n",
              "      <th></th>\n",
              "      <th></th>\n",
              "      <th></th>\n",
              "      <th></th>\n",
              "      <th></th>\n",
              "      <th></th>\n",
              "      <th></th>\n",
              "      <th></th>\n",
              "    </tr>\n",
              "  </thead>\n",
              "  <tbody>\n",
              "    <tr>\n",
              "      <th>0</th>\n",
              "      <td>1.0</td>\n",
              "      <td>0.0</td>\n",
              "      <td>0.0</td>\n",
              "      <td>0.0</td>\n",
              "      <td>0.0</td>\n",
              "      <td>0.0</td>\n",
              "      <td>0.0</td>\n",
              "      <td>1.0</td>\n",
              "      <td>1.0</td>\n",
              "      <td>0.0</td>\n",
              "      <td>0.0</td>\n",
              "      <td>0.0</td>\n",
              "      <td>0.0</td>\n",
              "      <td>0.0</td>\n",
              "      <td>1.0</td>\n",
              "      <td>3.0</td>\n",
              "      <td>1.0</td>\n",
              "      <td>2.0</td>\n",
              "      <td>2.0</td>\n",
              "      <td>1.0</td>\n",
              "      <td>2.0</td>\n",
              "      <td>55 - 64 Years</td>\n",
              "      <td>&lt; 12 Years</td>\n",
              "      <td>White</td>\n",
              "      <td>Female</td>\n",
              "      <td>Below Poverty</td>\n",
              "      <td>Not Married</td>\n",
              "      <td>Own</td>\n",
              "      <td>Not in Labor Force</td>\n",
              "      <td>oxchjgsf</td>\n",
              "      <td>Non-MSA</td>\n",
              "      <td>0.0</td>\n",
              "      <td>0.0</td>\n",
              "      <td>NaN</td>\n",
              "      <td>NaN</td>\n",
              "    </tr>\n",
              "    <tr>\n",
              "      <th>1</th>\n",
              "      <td>3.0</td>\n",
              "      <td>2.0</td>\n",
              "      <td>0.0</td>\n",
              "      <td>1.0</td>\n",
              "      <td>0.0</td>\n",
              "      <td>1.0</td>\n",
              "      <td>0.0</td>\n",
              "      <td>1.0</td>\n",
              "      <td>1.0</td>\n",
              "      <td>0.0</td>\n",
              "      <td>0.0</td>\n",
              "      <td>0.0</td>\n",
              "      <td>0.0</td>\n",
              "      <td>0.0</td>\n",
              "      <td>1.0</td>\n",
              "      <td>5.0</td>\n",
              "      <td>4.0</td>\n",
              "      <td>4.0</td>\n",
              "      <td>4.0</td>\n",
              "      <td>2.0</td>\n",
              "      <td>4.0</td>\n",
              "      <td>35 - 44 Years</td>\n",
              "      <td>12 Years</td>\n",
              "      <td>White</td>\n",
              "      <td>Male</td>\n",
              "      <td>Below Poverty</td>\n",
              "      <td>Not Married</td>\n",
              "      <td>Rent</td>\n",
              "      <td>Employed</td>\n",
              "      <td>bhuqouqj</td>\n",
              "      <td>MSA, Not Principle  City</td>\n",
              "      <td>0.0</td>\n",
              "      <td>0.0</td>\n",
              "      <td>pxcmvdjn</td>\n",
              "      <td>xgwztkwe</td>\n",
              "    </tr>\n",
              "    <tr>\n",
              "      <th>2</th>\n",
              "      <td>1.0</td>\n",
              "      <td>1.0</td>\n",
              "      <td>0.0</td>\n",
              "      <td>1.0</td>\n",
              "      <td>0.0</td>\n",
              "      <td>0.0</td>\n",
              "      <td>0.0</td>\n",
              "      <td>0.0</td>\n",
              "      <td>0.0</td>\n",
              "      <td>NaN</td>\n",
              "      <td>NaN</td>\n",
              "      <td>1.0</td>\n",
              "      <td>0.0</td>\n",
              "      <td>0.0</td>\n",
              "      <td>NaN</td>\n",
              "      <td>3.0</td>\n",
              "      <td>1.0</td>\n",
              "      <td>1.0</td>\n",
              "      <td>4.0</td>\n",
              "      <td>1.0</td>\n",
              "      <td>2.0</td>\n",
              "      <td>18 - 34 Years</td>\n",
              "      <td>College Graduate</td>\n",
              "      <td>White</td>\n",
              "      <td>Male</td>\n",
              "      <td>&lt;= $75,000, Above Poverty</td>\n",
              "      <td>Not Married</td>\n",
              "      <td>Own</td>\n",
              "      <td>Employed</td>\n",
              "      <td>qufhixun</td>\n",
              "      <td>MSA, Not Principle  City</td>\n",
              "      <td>2.0</td>\n",
              "      <td>0.0</td>\n",
              "      <td>rucpziij</td>\n",
              "      <td>xtkaffoo</td>\n",
              "    </tr>\n",
              "    <tr>\n",
              "      <th>3</th>\n",
              "      <td>1.0</td>\n",
              "      <td>1.0</td>\n",
              "      <td>0.0</td>\n",
              "      <td>1.0</td>\n",
              "      <td>0.0</td>\n",
              "      <td>1.0</td>\n",
              "      <td>1.0</td>\n",
              "      <td>0.0</td>\n",
              "      <td>0.0</td>\n",
              "      <td>0.0</td>\n",
              "      <td>1.0</td>\n",
              "      <td>1.0</td>\n",
              "      <td>0.0</td>\n",
              "      <td>0.0</td>\n",
              "      <td>NaN</td>\n",
              "      <td>3.0</td>\n",
              "      <td>3.0</td>\n",
              "      <td>5.0</td>\n",
              "      <td>5.0</td>\n",
              "      <td>4.0</td>\n",
              "      <td>1.0</td>\n",
              "      <td>65+ Years</td>\n",
              "      <td>12 Years</td>\n",
              "      <td>White</td>\n",
              "      <td>Female</td>\n",
              "      <td>Below Poverty</td>\n",
              "      <td>Not Married</td>\n",
              "      <td>Rent</td>\n",
              "      <td>Not in Labor Force</td>\n",
              "      <td>lrircsnp</td>\n",
              "      <td>MSA, Principle City</td>\n",
              "      <td>0.0</td>\n",
              "      <td>0.0</td>\n",
              "      <td>NaN</td>\n",
              "      <td>NaN</td>\n",
              "    </tr>\n",
              "    <tr>\n",
              "      <th>4</th>\n",
              "      <td>2.0</td>\n",
              "      <td>1.0</td>\n",
              "      <td>0.0</td>\n",
              "      <td>1.0</td>\n",
              "      <td>0.0</td>\n",
              "      <td>1.0</td>\n",
              "      <td>1.0</td>\n",
              "      <td>0.0</td>\n",
              "      <td>1.0</td>\n",
              "      <td>0.0</td>\n",
              "      <td>0.0</td>\n",
              "      <td>0.0</td>\n",
              "      <td>0.0</td>\n",
              "      <td>0.0</td>\n",
              "      <td>NaN</td>\n",
              "      <td>3.0</td>\n",
              "      <td>3.0</td>\n",
              "      <td>2.0</td>\n",
              "      <td>3.0</td>\n",
              "      <td>1.0</td>\n",
              "      <td>4.0</td>\n",
              "      <td>45 - 54 Years</td>\n",
              "      <td>Some College</td>\n",
              "      <td>White</td>\n",
              "      <td>Female</td>\n",
              "      <td>&lt;= $75,000, Above Poverty</td>\n",
              "      <td>Married</td>\n",
              "      <td>Own</td>\n",
              "      <td>Employed</td>\n",
              "      <td>qufhixun</td>\n",
              "      <td>MSA, Not Principle  City</td>\n",
              "      <td>1.0</td>\n",
              "      <td>0.0</td>\n",
              "      <td>wxleyezf</td>\n",
              "      <td>emcorrxb</td>\n",
              "    </tr>\n",
              "  </tbody>\n",
              "</table>\n",
              "</div>"
            ],
            "text/plain": [
              "               h1n1_concern  ...  employment_occupation\n",
              "respondent_id                ...                       \n",
              "0                       1.0  ...                    NaN\n",
              "1                       3.0  ...               xgwztkwe\n",
              "2                       1.0  ...               xtkaffoo\n",
              "3                       1.0  ...                    NaN\n",
              "4                       2.0  ...               emcorrxb\n",
              "\n",
              "[5 rows x 35 columns]"
            ]
          },
          "metadata": {
            "tags": []
          },
          "execution_count": 684
        }
      ]
    },
    {
      "cell_type": "code",
      "metadata": {
        "id": "f9yGnRBnxN5e",
        "colab_type": "code",
        "outputId": "e3ef76cc-938e-4f15-c362-af98cd2f8cde",
        "colab": {
          "base_uri": "https://localhost:8080/",
          "height": 251
        }
      },
      "source": [
        "df_trainx.columns"
      ],
      "execution_count": 685,
      "outputs": [
        {
          "output_type": "execute_result",
          "data": {
            "text/plain": [
              "Index(['h1n1_concern', 'h1n1_knowledge', 'behavioral_antiviral_meds',\n",
              "       'behavioral_avoidance', 'behavioral_face_mask', 'behavioral_wash_hands',\n",
              "       'behavioral_large_gatherings', 'behavioral_outside_home',\n",
              "       'behavioral_touch_face', 'doctor_recc_h1n1', 'doctor_recc_seasonal',\n",
              "       'chronic_med_condition', 'child_under_6_months', 'health_worker',\n",
              "       'health_insurance', 'opinion_h1n1_vacc_effective', 'opinion_h1n1_risk',\n",
              "       'opinion_h1n1_sick_from_vacc', 'opinion_seas_vacc_effective',\n",
              "       'opinion_seas_risk', 'opinion_seas_sick_from_vacc', 'age_group',\n",
              "       'education', 'race', 'sex', 'income_poverty', 'marital_status',\n",
              "       'rent_or_own', 'employment_status', 'hhs_geo_region', 'census_msa',\n",
              "       'household_adults', 'household_children', 'employment_industry',\n",
              "       'employment_occupation'],\n",
              "      dtype='object')"
            ]
          },
          "metadata": {
            "tags": []
          },
          "execution_count": 685
        }
      ]
    },
    {
      "cell_type": "code",
      "metadata": {
        "id": "7z6sktdNzhCs",
        "colab_type": "code",
        "outputId": "baeea56c-5b36-48e6-be89-dc2fd0122112",
        "colab": {
          "base_uri": "https://localhost:8080/",
          "height": 665
        }
      },
      "source": [
        "#Looking at types, focusing on transforming object types\n",
        "df_trainx.dtypes"
      ],
      "execution_count": 686,
      "outputs": [
        {
          "output_type": "execute_result",
          "data": {
            "text/plain": [
              "h1n1_concern                   float64\n",
              "h1n1_knowledge                 float64\n",
              "behavioral_antiviral_meds      float64\n",
              "behavioral_avoidance           float64\n",
              "behavioral_face_mask           float64\n",
              "behavioral_wash_hands          float64\n",
              "behavioral_large_gatherings    float64\n",
              "behavioral_outside_home        float64\n",
              "behavioral_touch_face          float64\n",
              "doctor_recc_h1n1               float64\n",
              "doctor_recc_seasonal           float64\n",
              "chronic_med_condition          float64\n",
              "child_under_6_months           float64\n",
              "health_worker                  float64\n",
              "health_insurance               float64\n",
              "opinion_h1n1_vacc_effective    float64\n",
              "opinion_h1n1_risk              float64\n",
              "opinion_h1n1_sick_from_vacc    float64\n",
              "opinion_seas_vacc_effective    float64\n",
              "opinion_seas_risk              float64\n",
              "opinion_seas_sick_from_vacc    float64\n",
              "age_group                       object\n",
              "education                       object\n",
              "race                            object\n",
              "sex                             object\n",
              "income_poverty                  object\n",
              "marital_status                  object\n",
              "rent_or_own                     object\n",
              "employment_status               object\n",
              "hhs_geo_region                  object\n",
              "census_msa                      object\n",
              "household_adults               float64\n",
              "household_children             float64\n",
              "employment_industry             object\n",
              "employment_occupation           object\n",
              "dtype: object"
            ]
          },
          "metadata": {
            "tags": []
          },
          "execution_count": 686
        }
      ]
    },
    {
      "cell_type": "code",
      "metadata": {
        "id": "Uuj-PYEFynU2",
        "colab_type": "code",
        "outputId": "f860024f-a761-47b7-da75-4d5294de15ad",
        "colab": {
          "base_uri": "https://localhost:8080/",
          "height": 35
        }
      },
      "source": [
        "df_trainy.columns"
      ],
      "execution_count": 687,
      "outputs": [
        {
          "output_type": "execute_result",
          "data": {
            "text/plain": [
              "Index(['h1n1_vaccine', 'seasonal_vaccine'], dtype='object')"
            ]
          },
          "metadata": {
            "tags": []
          },
          "execution_count": 687
        }
      ]
    },
    {
      "cell_type": "code",
      "metadata": {
        "id": "TryVmsjV6ZkB",
        "colab_type": "code",
        "colab": {}
      },
      "source": [
        "#merge df for exploring relationships we will use this Dataframe as one to manipulate and explore, this will not be the train df\n",
        "#for that we will use df_trainx\n",
        "df = pd.merge(df_trainx, df_trainy,left_index=True, right_index=True)"
      ],
      "execution_count": 0,
      "outputs": []
    },
    {
      "cell_type": "code",
      "metadata": {
        "id": "gGLH8rJfynYj",
        "colab_type": "code",
        "colab": {}
      },
      "source": [
        "#Encode the labels into int\n",
        "le = preprocessing.LabelEncoder()\n",
        "df['age_group'] = le.fit_transform(df['age_group'])"
      ],
      "execution_count": 0,
      "outputs": []
    },
    {
      "cell_type": "code",
      "metadata": {
        "id": "5yNQzA-M40v_",
        "colab_type": "code",
        "colab": {}
      },
      "source": [
        "df['race'] = le.fit_transform(df['race'])\n",
        "df['census_msa'] = le.fit_transform(df['census_msa'])\n",
        "df['hhs_geo_region'] = le.fit_transform(df['hhs_geo_region'])\n",
        "df['sex'] = le.fit_transform(df['sex']) "
      ],
      "execution_count": 0,
      "outputs": []
    },
    {
      "cell_type": "code",
      "metadata": {
        "id": "9WAMywzBSUFr",
        "colab_type": "code",
        "colab": {}
      },
      "source": [
        "df['education'].fillna('< 12 Years', inplace=True)"
      ],
      "execution_count": 0,
      "outputs": []
    },
    {
      "cell_type": "code",
      "metadata": {
        "id": "b1VMUk-28cv8",
        "colab_type": "code",
        "colab": {}
      },
      "source": [
        "df['education'] = le.fit_transform(df['education'])"
      ],
      "execution_count": 0,
      "outputs": []
    },
    {
      "cell_type": "code",
      "metadata": {
        "id": "RXExIk6h732N",
        "colab_type": "code",
        "outputId": "49204968-da8f-42bd-e06f-d47b98afd2ef",
        "colab": {
          "base_uri": "https://localhost:8080/",
          "height": 107
        }
      },
      "source": [
        "df['income_poverty'].describe()"
      ],
      "execution_count": 693,
      "outputs": [
        {
          "output_type": "execute_result",
          "data": {
            "text/plain": [
              "count                         22284\n",
              "unique                            3\n",
              "top       <= $75,000, Above Poverty\n",
              "freq                          12777\n",
              "Name: income_poverty, dtype: object"
            ]
          },
          "metadata": {
            "tags": []
          },
          "execution_count": 693
        }
      ]
    },
    {
      "cell_type": "code",
      "metadata": {
        "id": "LXNePzqOP3_m",
        "colab_type": "code",
        "outputId": "a497f560-f2a3-49b0-b964-57344d8cc59d",
        "colab": {
          "base_uri": "https://localhost:8080/",
          "height": 283
        }
      },
      "source": [
        "df['income_poverty'].hist()"
      ],
      "execution_count": 694,
      "outputs": [
        {
          "output_type": "execute_result",
          "data": {
            "text/plain": [
              "<matplotlib.axes._subplots.AxesSubplot at 0x7f0ff75e44e0>"
            ]
          },
          "metadata": {
            "tags": []
          },
          "execution_count": 694
        },
        {
          "output_type": "display_data",
          "data": {
            "image/png": "[encoded data removed]",
            "text/plain": [
              "<Figure size 432x288 with 1 Axes>"
            ]
          },
          "metadata": {
            "tags": [],
            "needs_background": "light"
          }
        }
      ]
    },
    {
      "cell_type": "code",
      "metadata": {
        "id": "4g9OWKmJRtZS",
        "colab_type": "code",
        "colab": {}
      },
      "source": [
        "dfi = df[['h1n1_concern','marital_status','seasonal_vaccine', 'household_children','household_adults']]"
      ],
      "execution_count": 0,
      "outputs": []
    },
    {
      "cell_type": "code",
      "metadata": {
        "id": "yRd49Li8Q_ub",
        "colab_type": "code",
        "outputId": "24e1f09e-9cd3-4810-d74e-91248718dcbc",
        "colab": {
          "base_uri": "https://localhost:8080/",
          "height": 298
        }
      },
      "source": [
        "from numpy import mean, median\n",
        "\n",
        "sns.barplot('seasonal_vaccine','h1n1_concern', hue=\"seasonal_vaccine\", data=dfi, estimator=mean)"
      ],
      "execution_count": 696,
      "outputs": [
        {
          "output_type": "execute_result",
          "data": {
            "text/plain": [
              "<matplotlib.axes._subplots.AxesSubplot at 0x7f0ff7576ac8>"
            ]
          },
          "metadata": {
            "tags": []
          },
          "execution_count": 696
        },
        {
          "output_type": "display_data",
          "data": {
            "image/png": "[encoded data removed]",
            "text/plain": [
              "<Figure size 432x288 with 1 Axes>"
            ]
          },
          "metadata": {
            "tags": [],
            "needs_background": "light"
          }
        }
      ]
    },
    {
      "cell_type": "code",
      "metadata": {
        "id": "43Ver6-bLTtt",
        "colab_type": "code",
        "outputId": "dd3ac25f-c703-4bca-b88f-a639dd6017a0",
        "colab": {
          "base_uri": "https://localhost:8080/",
          "height": 298
        }
      },
      "source": [
        "sns.barplot('seasonal_vaccine','h1n1_concern', hue=\"seasonal_vaccine\", data=dfi, estimator=mean)"
      ],
      "execution_count": 697,
      "outputs": [
        {
          "output_type": "execute_result",
          "data": {
            "text/plain": [
              "<matplotlib.axes._subplots.AxesSubplot at 0x7f0ff74b4240>"
            ]
          },
          "metadata": {
            "tags": []
          },
          "execution_count": 697
        },
        {
          "output_type": "display_data",
          "data": {
            "image/png": "[encoded data removed]",
            "text/plain": [
              "<Figure size 432x288 with 1 Axes>"
            ]
          },
          "metadata": {
            "tags": [],
            "needs_background": "light"
          }
        }
      ]
    },
    {
      "cell_type": "code",
      "metadata": {
        "id": "nj9wdbaN9WI7",
        "colab_type": "code",
        "colab": {}
      },
      "source": [
        "from scipy.stats import chi2_contingency"
      ],
      "execution_count": 0,
      "outputs": []
    },
    {
      "cell_type": "code",
      "metadata": {
        "id": "Bbq43y259XT2",
        "colab_type": "code",
        "outputId": "a1891300-f92d-4a66-ffd1-8043d4dfad87",
        "colab": {
          "base_uri": "https://localhost:8080/",
          "height": 35
        }
      },
      "source": [
        "# Phi Coefficient is the same as Pearson for two binary variables\n",
        "(df[\"h1n1_vaccine\"]\n",
        "     .corr(df[\"seasonal_vaccine\"], method=\"pearson\")\n",
        ")"
      ],
      "execution_count": 699,
      "outputs": [
        {
          "output_type": "execute_result",
          "data": {
            "text/plain": [
              "0.37714265306144495"
            ]
          },
          "metadata": {
            "tags": []
          },
          "execution_count": 699
        }
      ]
    },
    {
      "cell_type": "code",
      "metadata": {
        "id": "1E2ucfIZSHLs",
        "colab_type": "code",
        "outputId": "bd6aaa44-7b34-4bc5-a74a-250582eafc93",
        "colab": {
          "base_uri": "https://localhost:8080/",
          "height": 173
        }
      },
      "source": [
        "#display crosstab\n",
        "pd.crosstab(\n",
        "    df[\"h1n1_vaccine\"], \n",
        "    df[\"seasonal_vaccine\"], \n",
        "    margins=True,\n",
        "    normalize=True\n",
        ")"
      ],
      "execution_count": 700,
      "outputs": [
        {
          "output_type": "execute_result",
          "data": {
            "text/html": [
              "<div>\n",
              "<style scoped>\n",
              "    .dataframe tbody tr th:only-of-type {\n",
              "        vertical-align: middle;\n",
              "    }\n",
              "\n",
              "    .dataframe tbody tr th {\n",
              "        vertical-align: top;\n",
              "    }\n",
              "\n",
              "    .dataframe thead th {\n",
              "        text-align: right;\n",
              "    }\n",
              "</style>\n",
              "<table border=\"1\" class=\"dataframe\">\n",
              "  <thead>\n",
              "    <tr style=\"text-align: right;\">\n",
              "      <th>seasonal_vaccine</th>\n",
              "      <th>0</th>\n",
              "      <th>1</th>\n",
              "      <th>All</th>\n",
              "    </tr>\n",
              "    <tr>\n",
              "      <th>h1n1_vaccine</th>\n",
              "      <th></th>\n",
              "      <th></th>\n",
              "      <th></th>\n",
              "    </tr>\n",
              "  </thead>\n",
              "  <tbody>\n",
              "    <tr>\n",
              "      <th>0</th>\n",
              "      <td>0.497810</td>\n",
              "      <td>0.289737</td>\n",
              "      <td>0.787546</td>\n",
              "    </tr>\n",
              "    <tr>\n",
              "      <th>1</th>\n",
              "      <td>0.036582</td>\n",
              "      <td>0.175871</td>\n",
              "      <td>0.212454</td>\n",
              "    </tr>\n",
              "    <tr>\n",
              "      <th>All</th>\n",
              "      <td>0.534392</td>\n",
              "      <td>0.465608</td>\n",
              "      <td>1.000000</td>\n",
              "    </tr>\n",
              "  </tbody>\n",
              "</table>\n",
              "</div>"
            ],
            "text/plain": [
              "seasonal_vaccine         0         1       All\n",
              "h1n1_vaccine                                  \n",
              "0                 0.497810  0.289737  0.787546\n",
              "1                 0.036582  0.175871  0.212454\n",
              "All               0.534392  0.465608  1.000000"
            ]
          },
          "metadata": {
            "tags": []
          },
          "execution_count": 700
        }
      ]
    },
    {
      "cell_type": "code",
      "metadata": {
        "id": "Iog3c4_CSXU5",
        "colab_type": "code",
        "colab": {}
      },
      "source": [
        "#Prep to Display Data\n",
        "def vaccination_rate_plot(col, target, data, ax=None):\n",
        "    \"\"\"Stacked bar chart of vaccination rate for `target` against \n",
        "    `col`. \n",
        "    \n",
        "    Args:\n",
        "        col (string): column name of feature variable\n",
        "        target (string): column name of target variable\n",
        "        data (pandas DataFrame): dataframe that contains columns \n",
        "            `col` and `target`\n",
        "        ax (matplotlib axes object, optional): matplotlib axes \n",
        "            object to attach plot to\n",
        "    \"\"\"\n",
        "    counts = (df[[target, col]]\n",
        "                  .groupby([target, col])\n",
        "                  .size()\n",
        "                  .unstack(target)\n",
        "             )\n",
        "    group_counts = counts.sum(axis='columns')\n",
        "    props = counts.div(group_counts, axis='index')\n",
        "\n",
        "    props.plot(kind=\"barh\", stacked=True, ax=ax)\n",
        "    ax.invert_yaxis()\n",
        "    ax.legend().remove()"
      ],
      "execution_count": 0,
      "outputs": []
    },
    {
      "cell_type": "code",
      "metadata": {
        "id": "mTq2FTPsSYBK",
        "colab_type": "code",
        "outputId": "a1f1307d-ec91-4984-d4b4-d5b3ffe433c2",
        "colab": {
          "base_uri": "https://localhost:8080/",
          "height": 1000
        }
      },
      "source": [
        "#Plotting out relationships\n",
        "cols_to_plot = [\n",
        "    'h1n1_concern',\n",
        "    'h1n1_knowledge',\n",
        "    'opinion_h1n1_vacc_effective',\n",
        "    'opinion_h1n1_risk',\n",
        "    'opinion_h1n1_sick_from_vacc',\n",
        "    'opinion_seas_vacc_effective',\n",
        "    'opinion_seas_risk',\n",
        "    'opinion_seas_sick_from_vacc',\n",
        "    'sex',\n",
        "    'age_group',\n",
        "    'race',\n",
        "]\n",
        "\n",
        "fig, ax = plt.subplots(\n",
        "    len(cols_to_plot), 2, figsize=(9,len(cols_to_plot)*2.5)\n",
        ")\n",
        "for idx, col in enumerate(cols_to_plot):\n",
        "    vaccination_rate_plot(\n",
        "        col, 'h1n1_vaccine', df, ax=ax[idx, 0]\n",
        "    )\n",
        "    vaccination_rate_plot(\n",
        "        col, 'seasonal_vaccine', df, ax=ax[idx, 1]\n",
        "    )\n",
        "    \n",
        "ax[0, 0].legend(\n",
        "    loc='lower center', bbox_to_anchor=(0.5, 1.05), title='h1n1_vaccine'\n",
        ")\n",
        "ax[0, 1].legend(\n",
        "    loc='lower center', bbox_to_anchor=(0.5, 1.05), title='seasonal_vaccine'\n",
        ")\n",
        "fig.tight_layout()"
      ],
      "execution_count": 702,
      "outputs": [
        {
          "output_type": "display_data",
          "data": {
            "image/png": "[encoded data removed]",
            "text/plain": [
              "<Figure size 648x1980 with 22 Axes>"
            ]
          },
          "metadata": {
            "tags": [],
            "needs_background": "light"
          }
        }
      ]
    },
    {
      "cell_type": "code",
      "metadata": {
        "id": "GzeyiKWITb8Z",
        "colab_type": "code",
        "outputId": "ea161042-d9eb-4549-9256-4a405c7aede2",
        "colab": {
          "base_uri": "https://localhost:8080/",
          "height": 298
        }
      },
      "source": [
        "sns.barplot('seasonal_vaccine','marital_status', hue=\"seasonal_vaccine\", data=df, estimator=mean)"
      ],
      "execution_count": 703,
      "outputs": [
        {
          "output_type": "execute_result",
          "data": {
            "text/plain": [
              "<matplotlib.axes._subplots.AxesSubplot at 0x7f0ff7393ef0>"
            ]
          },
          "metadata": {
            "tags": []
          },
          "execution_count": 703
        },
        {
          "output_type": "display_data",
          "data": {
            "image/png": "[encoded data removed]",
            "text/plain": [
              "<Figure size 432x288 with 1 Axes>"
            ]
          },
          "metadata": {
            "tags": [],
            "needs_background": "light"
          }
        }
      ]
    },
    {
      "cell_type": "code",
      "metadata": {
        "id": "-EboZfEb94rU",
        "colab_type": "code",
        "outputId": "5ecc6246-47c9-4630-cee1-c6314a421f5a",
        "colab": {
          "base_uri": "https://localhost:8080/",
          "height": 35
        }
      },
      "source": [
        "df_trainx['marital_status'].unique()"
      ],
      "execution_count": 704,
      "outputs": [
        {
          "output_type": "execute_result",
          "data": {
            "text/plain": [
              "array(['Not Married', 'Married', nan], dtype=object)"
            ]
          },
          "metadata": {
            "tags": []
          },
          "execution_count": 704
        }
      ]
    },
    {
      "cell_type": "code",
      "metadata": {
        "id": "Bc50R9sP-FVs",
        "colab_type": "code",
        "outputId": "30ce864e-5bda-4bc8-b23f-484e31b82eac",
        "colab": {
          "base_uri": "https://localhost:8080/",
          "height": 53
        }
      },
      "source": [
        "df_trainx['income_poverty'].unique()"
      ],
      "execution_count": 705,
      "outputs": [
        {
          "output_type": "execute_result",
          "data": {
            "text/plain": [
              "array(['Below Poverty', '<= $75,000, Above Poverty', '> $75,000', nan],\n",
              "      dtype=object)"
            ]
          },
          "metadata": {
            "tags": []
          },
          "execution_count": 705
        }
      ]
    },
    {
      "cell_type": "code",
      "metadata": {
        "id": "4g_Z3TSt-NGA",
        "colab_type": "code",
        "outputId": "2784f9dd-1a35-4c54-f0db-d592a9f02049",
        "colab": {
          "base_uri": "https://localhost:8080/",
          "height": 197
        }
      },
      "source": [
        "print(df_trainx['rent_or_own'].unique())\n",
        "print(df_trainx['employment_status'].unique())\n",
        "print(df_trainx['employment_industry'].unique())\n",
        "print(df_trainx['employment_occupation'].unique())"
      ],
      "execution_count": 706,
      "outputs": [
        {
          "output_type": "stream",
          "text": [
            "['Own' 'Rent' nan]\n",
            "['Not in Labor Force' 'Employed' 'Unemployed' nan]\n",
            "[nan 'pxcmvdjn' 'rucpziij' 'wxleyezf' 'saaquncn' 'xicduogh' 'ldnlellj'\n",
            " 'wlfvacwt' 'nduyfdeo' 'fcxhlnwr' 'vjjrobsf' 'arjwrbjb' 'atmlpfrs'\n",
            " 'msuufmds' 'xqicxuve' 'phxvnwax' 'dotnnunm' 'mfikgejo' 'cfqqtusy'\n",
            " 'mcubkhph' 'haxffmxo' 'qnlwzans']\n",
            "[nan 'xgwztkwe' 'xtkaffoo' 'emcorrxb' 'vlluhbov' 'xqwwgdyp' 'ccgxvspp'\n",
            " 'qxajmpny' 'kldqjyjy' 'mxkfnird' 'hfxkjkmi' 'bxpfxfdn' 'ukymxvdu'\n",
            " 'cmhcxjea' 'haliazsg' 'dlvbwzss' 'xzmlyyjv' 'oijqvulv' 'rcertsgn'\n",
            " 'tfqavkke' 'hodpvpew' 'uqqtjvyb' 'pvmttkik' 'dcjcmpih']\n"
          ],
          "name": "stdout"
        }
      ]
    },
    {
      "cell_type": "code",
      "metadata": {
        "id": "We8yQoOYWUNO",
        "colab_type": "code",
        "colab": {}
      },
      "source": [
        "estimators = MultiOutputClassifier(\n",
        "    estimator=LinearSVC()\n",
        ")"
      ],
      "execution_count": 0,
      "outputs": []
    },
    {
      "cell_type": "code",
      "metadata": {
        "id": "0t0xLR0HVEWX",
        "colab_type": "code",
        "colab": {}
      },
      "source": [
        "#pipeline for sklearn (I found ANN works better so didn't display the use of this pipeline) feel free to use and expand \n",
        "full_pipeline = Pipeline([\n",
        "    (\"preprocessor\", preprocessor),\n",
        "    (\"estimators\", estimators),\n",
        "])"
      ],
      "execution_count": 0,
      "outputs": []
    },
    {
      "cell_type": "code",
      "metadata": {
        "id": "Yldhi-gMjLyG",
        "colab_type": "code",
        "outputId": "7ea0bf72-d766-49d5-9646-cb1f06b7db86",
        "colab": {
          "base_uri": "https://localhost:8080/",
          "height": 340
        }
      },
      "source": [
        "df_trainx.head()"
      ],
      "execution_count": 709,
      "outputs": [
        {
          "output_type": "execute_result",
          "data": {
            "text/html": [
              "<div>\n",
              "<style scoped>\n",
              "    .dataframe tbody tr th:only-of-type {\n",
              "        vertical-align: middle;\n",
              "    }\n",
              "\n",
              "    .dataframe tbody tr th {\n",
              "        vertical-align: top;\n",
              "    }\n",
              "\n",
              "    .dataframe thead th {\n",
              "        text-align: right;\n",
              "    }\n",
              "</style>\n",
              "<table border=\"1\" class=\"dataframe\">\n",
              "  <thead>\n",
              "    <tr style=\"text-align: right;\">\n",
              "      <th></th>\n",
              "      <th>h1n1_concern</th>\n",
              "      <th>h1n1_knowledge</th>\n",
              "      <th>behavioral_antiviral_meds</th>\n",
              "      <th>behavioral_avoidance</th>\n",
              "      <th>behavioral_face_mask</th>\n",
              "      <th>behavioral_wash_hands</th>\n",
              "      <th>behavioral_large_gatherings</th>\n",
              "      <th>behavioral_outside_home</th>\n",
              "      <th>behavioral_touch_face</th>\n",
              "      <th>doctor_recc_h1n1</th>\n",
              "      <th>doctor_recc_seasonal</th>\n",
              "      <th>chronic_med_condition</th>\n",
              "      <th>child_under_6_months</th>\n",
              "      <th>health_worker</th>\n",
              "      <th>health_insurance</th>\n",
              "      <th>opinion_h1n1_vacc_effective</th>\n",
              "      <th>opinion_h1n1_risk</th>\n",
              "      <th>opinion_h1n1_sick_from_vacc</th>\n",
              "      <th>opinion_seas_vacc_effective</th>\n",
              "      <th>opinion_seas_risk</th>\n",
              "      <th>opinion_seas_sick_from_vacc</th>\n",
              "      <th>age_group</th>\n",
              "      <th>education</th>\n",
              "      <th>race</th>\n",
              "      <th>sex</th>\n",
              "      <th>income_poverty</th>\n",
              "      <th>marital_status</th>\n",
              "      <th>rent_or_own</th>\n",
              "      <th>employment_status</th>\n",
              "      <th>hhs_geo_region</th>\n",
              "      <th>census_msa</th>\n",
              "      <th>household_adults</th>\n",
              "      <th>household_children</th>\n",
              "      <th>employment_industry</th>\n",
              "      <th>employment_occupation</th>\n",
              "    </tr>\n",
              "    <tr>\n",
              "      <th>respondent_id</th>\n",
              "      <th></th>\n",
              "      <th></th>\n",
              "      <th></th>\n",
              "      <th></th>\n",
              "      <th></th>\n",
              "      <th></th>\n",
              "      <th></th>\n",
              "      <th></th>\n",
              "      <th></th>\n",
              "      <th></th>\n",
              "      <th></th>\n",
              "      <th></th>\n",
              "      <th></th>\n",
              "      <th></th>\n",
              "      <th></th>\n",
              "      <th></th>\n",
              "      <th></th>\n",
              "      <th></th>\n",
              "      <th></th>\n",
              "      <th></th>\n",
              "      <th></th>\n",
              "      <th></th>\n",
              "      <th></th>\n",
              "      <th></th>\n",
              "      <th></th>\n",
              "      <th></th>\n",
              "      <th></th>\n",
              "      <th></th>\n",
              "      <th></th>\n",
              "      <th></th>\n",
              "      <th></th>\n",
              "      <th></th>\n",
              "      <th></th>\n",
              "      <th></th>\n",
              "      <th></th>\n",
              "    </tr>\n",
              "  </thead>\n",
              "  <tbody>\n",
              "    <tr>\n",
              "      <th>0</th>\n",
              "      <td>1.0</td>\n",
              "      <td>0.0</td>\n",
              "      <td>0.0</td>\n",
              "      <td>0.0</td>\n",
              "      <td>0.0</td>\n",
              "      <td>0.0</td>\n",
              "      <td>0.0</td>\n",
              "      <td>1.0</td>\n",
              "      <td>1.0</td>\n",
              "      <td>0.0</td>\n",
              "      <td>0.0</td>\n",
              "      <td>0.0</td>\n",
              "      <td>0.0</td>\n",
              "      <td>0.0</td>\n",
              "      <td>1.0</td>\n",
              "      <td>3.0</td>\n",
              "      <td>1.0</td>\n",
              "      <td>2.0</td>\n",
              "      <td>2.0</td>\n",
              "      <td>1.0</td>\n",
              "      <td>2.0</td>\n",
              "      <td>55 - 64 Years</td>\n",
              "      <td>&lt; 12 Years</td>\n",
              "      <td>White</td>\n",
              "      <td>Female</td>\n",
              "      <td>Below Poverty</td>\n",
              "      <td>Not Married</td>\n",
              "      <td>Own</td>\n",
              "      <td>Not in Labor Force</td>\n",
              "      <td>oxchjgsf</td>\n",
              "      <td>Non-MSA</td>\n",
              "      <td>0.0</td>\n",
              "      <td>0.0</td>\n",
              "      <td>NaN</td>\n",
              "      <td>NaN</td>\n",
              "    </tr>\n",
              "    <tr>\n",
              "      <th>1</th>\n",
              "      <td>3.0</td>\n",
              "      <td>2.0</td>\n",
              "      <td>0.0</td>\n",
              "      <td>1.0</td>\n",
              "      <td>0.0</td>\n",
              "      <td>1.0</td>\n",
              "      <td>0.0</td>\n",
              "      <td>1.0</td>\n",
              "      <td>1.0</td>\n",
              "      <td>0.0</td>\n",
              "      <td>0.0</td>\n",
              "      <td>0.0</td>\n",
              "      <td>0.0</td>\n",
              "      <td>0.0</td>\n",
              "      <td>1.0</td>\n",
              "      <td>5.0</td>\n",
              "      <td>4.0</td>\n",
              "      <td>4.0</td>\n",
              "      <td>4.0</td>\n",
              "      <td>2.0</td>\n",
              "      <td>4.0</td>\n",
              "      <td>35 - 44 Years</td>\n",
              "      <td>12 Years</td>\n",
              "      <td>White</td>\n",
              "      <td>Male</td>\n",
              "      <td>Below Poverty</td>\n",
              "      <td>Not Married</td>\n",
              "      <td>Rent</td>\n",
              "      <td>Employed</td>\n",
              "      <td>bhuqouqj</td>\n",
              "      <td>MSA, Not Principle  City</td>\n",
              "      <td>0.0</td>\n",
              "      <td>0.0</td>\n",
              "      <td>pxcmvdjn</td>\n",
              "      <td>xgwztkwe</td>\n",
              "    </tr>\n",
              "    <tr>\n",
              "      <th>2</th>\n",
              "      <td>1.0</td>\n",
              "      <td>1.0</td>\n",
              "      <td>0.0</td>\n",
              "      <td>1.0</td>\n",
              "      <td>0.0</td>\n",
              "      <td>0.0</td>\n",
              "      <td>0.0</td>\n",
              "      <td>0.0</td>\n",
              "      <td>0.0</td>\n",
              "      <td>NaN</td>\n",
              "      <td>NaN</td>\n",
              "      <td>1.0</td>\n",
              "      <td>0.0</td>\n",
              "      <td>0.0</td>\n",
              "      <td>NaN</td>\n",
              "      <td>3.0</td>\n",
              "      <td>1.0</td>\n",
              "      <td>1.0</td>\n",
              "      <td>4.0</td>\n",
              "      <td>1.0</td>\n",
              "      <td>2.0</td>\n",
              "      <td>18 - 34 Years</td>\n",
              "      <td>College Graduate</td>\n",
              "      <td>White</td>\n",
              "      <td>Male</td>\n",
              "      <td>&lt;= $75,000, Above Poverty</td>\n",
              "      <td>Not Married</td>\n",
              "      <td>Own</td>\n",
              "      <td>Employed</td>\n",
              "      <td>qufhixun</td>\n",
              "      <td>MSA, Not Principle  City</td>\n",
              "      <td>2.0</td>\n",
              "      <td>0.0</td>\n",
              "      <td>rucpziij</td>\n",
              "      <td>xtkaffoo</td>\n",
              "    </tr>\n",
              "    <tr>\n",
              "      <th>3</th>\n",
              "      <td>1.0</td>\n",
              "      <td>1.0</td>\n",
              "      <td>0.0</td>\n",
              "      <td>1.0</td>\n",
              "      <td>0.0</td>\n",
              "      <td>1.0</td>\n",
              "      <td>1.0</td>\n",
              "      <td>0.0</td>\n",
              "      <td>0.0</td>\n",
              "      <td>0.0</td>\n",
              "      <td>1.0</td>\n",
              "      <td>1.0</td>\n",
              "      <td>0.0</td>\n",
              "      <td>0.0</td>\n",
              "      <td>NaN</td>\n",
              "      <td>3.0</td>\n",
              "      <td>3.0</td>\n",
              "      <td>5.0</td>\n",
              "      <td>5.0</td>\n",
              "      <td>4.0</td>\n",
              "      <td>1.0</td>\n",
              "      <td>65+ Years</td>\n",
              "      <td>12 Years</td>\n",
              "      <td>White</td>\n",
              "      <td>Female</td>\n",
              "      <td>Below Poverty</td>\n",
              "      <td>Not Married</td>\n",
              "      <td>Rent</td>\n",
              "      <td>Not in Labor Force</td>\n",
              "      <td>lrircsnp</td>\n",
              "      <td>MSA, Principle City</td>\n",
              "      <td>0.0</td>\n",
              "      <td>0.0</td>\n",
              "      <td>NaN</td>\n",
              "      <td>NaN</td>\n",
              "    </tr>\n",
              "    <tr>\n",
              "      <th>4</th>\n",
              "      <td>2.0</td>\n",
              "      <td>1.0</td>\n",
              "      <td>0.0</td>\n",
              "      <td>1.0</td>\n",
              "      <td>0.0</td>\n",
              "      <td>1.0</td>\n",
              "      <td>1.0</td>\n",
              "      <td>0.0</td>\n",
              "      <td>1.0</td>\n",
              "      <td>0.0</td>\n",
              "      <td>0.0</td>\n",
              "      <td>0.0</td>\n",
              "      <td>0.0</td>\n",
              "      <td>0.0</td>\n",
              "      <td>NaN</td>\n",
              "      <td>3.0</td>\n",
              "      <td>3.0</td>\n",
              "      <td>2.0</td>\n",
              "      <td>3.0</td>\n",
              "      <td>1.0</td>\n",
              "      <td>4.0</td>\n",
              "      <td>45 - 54 Years</td>\n",
              "      <td>Some College</td>\n",
              "      <td>White</td>\n",
              "      <td>Female</td>\n",
              "      <td>&lt;= $75,000, Above Poverty</td>\n",
              "      <td>Married</td>\n",
              "      <td>Own</td>\n",
              "      <td>Employed</td>\n",
              "      <td>qufhixun</td>\n",
              "      <td>MSA, Not Principle  City</td>\n",
              "      <td>1.0</td>\n",
              "      <td>0.0</td>\n",
              "      <td>wxleyezf</td>\n",
              "      <td>emcorrxb</td>\n",
              "    </tr>\n",
              "  </tbody>\n",
              "</table>\n",
              "</div>"
            ],
            "text/plain": [
              "               h1n1_concern  ...  employment_occupation\n",
              "respondent_id                ...                       \n",
              "0                       1.0  ...                    NaN\n",
              "1                       3.0  ...               xgwztkwe\n",
              "2                       1.0  ...               xtkaffoo\n",
              "3                       1.0  ...                    NaN\n",
              "4                       2.0  ...               emcorrxb\n",
              "\n",
              "[5 rows x 35 columns]"
            ]
          },
          "metadata": {
            "tags": []
          },
          "execution_count": 709
        }
      ]
    },
    {
      "cell_type": "code",
      "metadata": {
        "id": "l0HKUYNm2u6X",
        "colab_type": "code",
        "colab": {}
      },
      "source": [
        "#Clean Data\n",
        "df['employment_occupation'].fillna('0', inplace=True)\n",
        "df['employment_industry'].fillna('0', inplace=True)\n",
        "df['employment_status'].fillna('0', inplace=True)\n",
        "df['marital_status'].fillna('Not Married', inplace=True)\n",
        "df['income_poverty'].fillna('<= $75,000, Above Poverty', inplace=True)\n",
        "df['rent_or_own' ].fillna('<= $75,000, Above Poverty', inplace=True)\n",
        "df['income_poverty'] = le.fit_transform(df['income_poverty'])\n",
        "df['rent_or_own' ] = le.fit_transform(df['rent_or_own'])\n",
        "df['marital_status'] = le.fit_transform(df['marital_status'])\n",
        "df['employment_status'] = le.fit_transform(df['employment_status'])\n",
        "df['employment_occupation'] = le.fit_transform(df['employment_occupation'])\n",
        "df['employment_industry'] = le.fit_transform(df['employment_industry'])"
      ],
      "execution_count": 0,
      "outputs": []
    },
    {
      "cell_type": "code",
      "metadata": {
        "id": "Xe7rYJzE8JP9",
        "colab_type": "code",
        "outputId": "eb781277-8153-4e22-f6c9-1e5a3dfbaba7",
        "colab": {
          "base_uri": "https://localhost:8080/",
          "height": 255
        }
      },
      "source": [
        "df.head()"
      ],
      "execution_count": 711,
      "outputs": [
        {
          "output_type": "execute_result",
          "data": {
            "text/html": [
              "<div>\n",
              "<style scoped>\n",
              "    .dataframe tbody tr th:only-of-type {\n",
              "        vertical-align: middle;\n",
              "    }\n",
              "\n",
              "    .dataframe tbody tr th {\n",
              "        vertical-align: top;\n",
              "    }\n",
              "\n",
              "    .dataframe thead th {\n",
              "        text-align: right;\n",
              "    }\n",
              "</style>\n",
              "<table border=\"1\" class=\"dataframe\">\n",
              "  <thead>\n",
              "    <tr style=\"text-align: right;\">\n",
              "      <th></th>\n",
              "      <th>h1n1_concern</th>\n",
              "      <th>h1n1_knowledge</th>\n",
              "      <th>behavioral_antiviral_meds</th>\n",
              "      <th>behavioral_avoidance</th>\n",
              "      <th>behavioral_face_mask</th>\n",
              "      <th>behavioral_wash_hands</th>\n",
              "      <th>behavioral_large_gatherings</th>\n",
              "      <th>behavioral_outside_home</th>\n",
              "      <th>behavioral_touch_face</th>\n",
              "      <th>doctor_recc_h1n1</th>\n",
              "      <th>doctor_recc_seasonal</th>\n",
              "      <th>chronic_med_condition</th>\n",
              "      <th>child_under_6_months</th>\n",
              "      <th>health_worker</th>\n",
              "      <th>health_insurance</th>\n",
              "      <th>opinion_h1n1_vacc_effective</th>\n",
              "      <th>opinion_h1n1_risk</th>\n",
              "      <th>opinion_h1n1_sick_from_vacc</th>\n",
              "      <th>opinion_seas_vacc_effective</th>\n",
              "      <th>opinion_seas_risk</th>\n",
              "      <th>opinion_seas_sick_from_vacc</th>\n",
              "      <th>age_group</th>\n",
              "      <th>education</th>\n",
              "      <th>race</th>\n",
              "      <th>sex</th>\n",
              "      <th>income_poverty</th>\n",
              "      <th>marital_status</th>\n",
              "      <th>rent_or_own</th>\n",
              "      <th>employment_status</th>\n",
              "      <th>hhs_geo_region</th>\n",
              "      <th>census_msa</th>\n",
              "      <th>household_adults</th>\n",
              "      <th>household_children</th>\n",
              "      <th>employment_industry</th>\n",
              "      <th>employment_occupation</th>\n",
              "      <th>h1n1_vaccine</th>\n",
              "      <th>seasonal_vaccine</th>\n",
              "    </tr>\n",
              "    <tr>\n",
              "      <th>respondent_id</th>\n",
              "      <th></th>\n",
              "      <th></th>\n",
              "      <th></th>\n",
              "      <th></th>\n",
              "      <th></th>\n",
              "      <th></th>\n",
              "      <th></th>\n",
              "      <th></th>\n",
              "      <th></th>\n",
              "      <th></th>\n",
              "      <th></th>\n",
              "      <th></th>\n",
              "      <th></th>\n",
              "      <th></th>\n",
              "      <th></th>\n",
              "      <th></th>\n",
              "      <th></th>\n",
              "      <th></th>\n",
              "      <th></th>\n",
              "      <th></th>\n",
              "      <th></th>\n",
              "      <th></th>\n",
              "      <th></th>\n",
              "      <th></th>\n",
              "      <th></th>\n",
              "      <th></th>\n",
              "      <th></th>\n",
              "      <th></th>\n",
              "      <th></th>\n",
              "      <th></th>\n",
              "      <th></th>\n",
              "      <th></th>\n",
              "      <th></th>\n",
              "      <th></th>\n",
              "      <th></th>\n",
              "      <th></th>\n",
              "      <th></th>\n",
              "    </tr>\n",
              "  </thead>\n",
              "  <tbody>\n",
              "    <tr>\n",
              "      <th>0</th>\n",
              "      <td>1.0</td>\n",
              "      <td>0.0</td>\n",
              "      <td>0.0</td>\n",
              "      <td>0.0</td>\n",
              "      <td>0.0</td>\n",
              "      <td>0.0</td>\n",
              "      <td>0.0</td>\n",
              "      <td>1.0</td>\n",
              "      <td>1.0</td>\n",
              "      <td>0.0</td>\n",
              "      <td>0.0</td>\n",
              "      <td>0.0</td>\n",
              "      <td>0.0</td>\n",
              "      <td>0.0</td>\n",
              "      <td>1.0</td>\n",
              "      <td>3.0</td>\n",
              "      <td>1.0</td>\n",
              "      <td>2.0</td>\n",
              "      <td>2.0</td>\n",
              "      <td>1.0</td>\n",
              "      <td>2.0</td>\n",
              "      <td>3</td>\n",
              "      <td>1</td>\n",
              "      <td>3</td>\n",
              "      <td>0</td>\n",
              "      <td>2</td>\n",
              "      <td>1</td>\n",
              "      <td>1</td>\n",
              "      <td>2</td>\n",
              "      <td>8</td>\n",
              "      <td>2</td>\n",
              "      <td>0.0</td>\n",
              "      <td>0.0</td>\n",
              "      <td>0</td>\n",
              "      <td>0</td>\n",
              "      <td>0</td>\n",
              "      <td>0</td>\n",
              "    </tr>\n",
              "    <tr>\n",
              "      <th>1</th>\n",
              "      <td>3.0</td>\n",
              "      <td>2.0</td>\n",
              "      <td>0.0</td>\n",
              "      <td>1.0</td>\n",
              "      <td>0.0</td>\n",
              "      <td>1.0</td>\n",
              "      <td>0.0</td>\n",
              "      <td>1.0</td>\n",
              "      <td>1.0</td>\n",
              "      <td>0.0</td>\n",
              "      <td>0.0</td>\n",
              "      <td>0.0</td>\n",
              "      <td>0.0</td>\n",
              "      <td>0.0</td>\n",
              "      <td>1.0</td>\n",
              "      <td>5.0</td>\n",
              "      <td>4.0</td>\n",
              "      <td>4.0</td>\n",
              "      <td>4.0</td>\n",
              "      <td>2.0</td>\n",
              "      <td>4.0</td>\n",
              "      <td>1</td>\n",
              "      <td>0</td>\n",
              "      <td>3</td>\n",
              "      <td>1</td>\n",
              "      <td>2</td>\n",
              "      <td>1</td>\n",
              "      <td>2</td>\n",
              "      <td>1</td>\n",
              "      <td>1</td>\n",
              "      <td>0</td>\n",
              "      <td>0.0</td>\n",
              "      <td>0.0</td>\n",
              "      <td>13</td>\n",
              "      <td>20</td>\n",
              "      <td>0</td>\n",
              "      <td>1</td>\n",
              "    </tr>\n",
              "    <tr>\n",
              "      <th>2</th>\n",
              "      <td>1.0</td>\n",
              "      <td>1.0</td>\n",
              "      <td>0.0</td>\n",
              "      <td>1.0</td>\n",
              "      <td>0.0</td>\n",
              "      <td>0.0</td>\n",
              "      <td>0.0</td>\n",
              "      <td>0.0</td>\n",
              "      <td>0.0</td>\n",
              "      <td>NaN</td>\n",
              "      <td>NaN</td>\n",
              "      <td>1.0</td>\n",
              "      <td>0.0</td>\n",
              "      <td>0.0</td>\n",
              "      <td>NaN</td>\n",
              "      <td>3.0</td>\n",
              "      <td>1.0</td>\n",
              "      <td>1.0</td>\n",
              "      <td>4.0</td>\n",
              "      <td>1.0</td>\n",
              "      <td>2.0</td>\n",
              "      <td>0</td>\n",
              "      <td>2</td>\n",
              "      <td>3</td>\n",
              "      <td>1</td>\n",
              "      <td>0</td>\n",
              "      <td>1</td>\n",
              "      <td>1</td>\n",
              "      <td>1</td>\n",
              "      <td>9</td>\n",
              "      <td>0</td>\n",
              "      <td>2.0</td>\n",
              "      <td>0.0</td>\n",
              "      <td>15</td>\n",
              "      <td>22</td>\n",
              "      <td>0</td>\n",
              "      <td>0</td>\n",
              "    </tr>\n",
              "    <tr>\n",
              "      <th>3</th>\n",
              "      <td>1.0</td>\n",
              "      <td>1.0</td>\n",
              "      <td>0.0</td>\n",
              "      <td>1.0</td>\n",
              "      <td>0.0</td>\n",
              "      <td>1.0</td>\n",
              "      <td>1.0</td>\n",
              "      <td>0.0</td>\n",
              "      <td>0.0</td>\n",
              "      <td>0.0</td>\n",
              "      <td>1.0</td>\n",
              "      <td>1.0</td>\n",
              "      <td>0.0</td>\n",
              "      <td>0.0</td>\n",
              "      <td>NaN</td>\n",
              "      <td>3.0</td>\n",
              "      <td>3.0</td>\n",
              "      <td>5.0</td>\n",
              "      <td>5.0</td>\n",
              "      <td>4.0</td>\n",
              "      <td>1.0</td>\n",
              "      <td>4</td>\n",
              "      <td>0</td>\n",
              "      <td>3</td>\n",
              "      <td>0</td>\n",
              "      <td>2</td>\n",
              "      <td>1</td>\n",
              "      <td>2</td>\n",
              "      <td>2</td>\n",
              "      <td>5</td>\n",
              "      <td>1</td>\n",
              "      <td>0.0</td>\n",
              "      <td>0.0</td>\n",
              "      <td>0</td>\n",
              "      <td>0</td>\n",
              "      <td>0</td>\n",
              "      <td>1</td>\n",
              "    </tr>\n",
              "    <tr>\n",
              "      <th>4</th>\n",
              "      <td>2.0</td>\n",
              "      <td>1.0</td>\n",
              "      <td>0.0</td>\n",
              "      <td>1.0</td>\n",
              "      <td>0.0</td>\n",
              "      <td>1.0</td>\n",
              "      <td>1.0</td>\n",
              "      <td>0.0</td>\n",
              "      <td>1.0</td>\n",
              "      <td>0.0</td>\n",
              "      <td>0.0</td>\n",
              "      <td>0.0</td>\n",
              "      <td>0.0</td>\n",
              "      <td>0.0</td>\n",
              "      <td>NaN</td>\n",
              "      <td>3.0</td>\n",
              "      <td>3.0</td>\n",
              "      <td>2.0</td>\n",
              "      <td>3.0</td>\n",
              "      <td>1.0</td>\n",
              "      <td>4.0</td>\n",
              "      <td>2</td>\n",
              "      <td>3</td>\n",
              "      <td>3</td>\n",
              "      <td>0</td>\n",
              "      <td>0</td>\n",
              "      <td>0</td>\n",
              "      <td>1</td>\n",
              "      <td>1</td>\n",
              "      <td>9</td>\n",
              "      <td>0</td>\n",
              "      <td>1.0</td>\n",
              "      <td>0.0</td>\n",
              "      <td>19</td>\n",
              "      <td>6</td>\n",
              "      <td>0</td>\n",
              "      <td>0</td>\n",
              "    </tr>\n",
              "  </tbody>\n",
              "</table>\n",
              "</div>"
            ],
            "text/plain": [
              "               h1n1_concern  h1n1_knowledge  ...  h1n1_vaccine  seasonal_vaccine\n",
              "respondent_id                                ...                                \n",
              "0                       1.0             0.0  ...             0                 0\n",
              "1                       3.0             2.0  ...             0                 1\n",
              "2                       1.0             1.0  ...             0                 0\n",
              "3                       1.0             1.0  ...             0                 1\n",
              "4                       2.0             1.0  ...             0                 0\n",
              "\n",
              "[5 rows x 37 columns]"
            ]
          },
          "metadata": {
            "tags": []
          },
          "execution_count": 711
        }
      ]
    },
    {
      "cell_type": "code",
      "metadata": {
        "id": "OgkzM81F1N6Q",
        "colab_type": "code",
        "outputId": "e15b396f-9441-4594-86ca-34e923bc012a",
        "colab": {
          "base_uri": "https://localhost:8080/",
          "height": 251
        }
      },
      "source": [
        "#significance level is 0.05\n",
        "df.columns"
      ],
      "execution_count": 712,
      "outputs": [
        {
          "output_type": "execute_result",
          "data": {
            "text/plain": [
              "Index(['h1n1_concern', 'h1n1_knowledge', 'behavioral_antiviral_meds',\n",
              "       'behavioral_avoidance', 'behavioral_face_mask', 'behavioral_wash_hands',\n",
              "       'behavioral_large_gatherings', 'behavioral_outside_home',\n",
              "       'behavioral_touch_face', 'doctor_recc_h1n1', 'doctor_recc_seasonal',\n",
              "       'chronic_med_condition', 'child_under_6_months', 'health_worker',\n",
              "       'health_insurance', 'opinion_h1n1_vacc_effective', 'opinion_h1n1_risk',\n",
              "       'opinion_h1n1_sick_from_vacc', 'opinion_seas_vacc_effective',\n",
              "       'opinion_seas_risk', 'opinion_seas_sick_from_vacc', 'age_group',\n",
              "       'education', 'race', 'sex', 'income_poverty', 'marital_status',\n",
              "       'rent_or_own', 'employment_status', 'hhs_geo_region', 'census_msa',\n",
              "       'household_adults', 'household_children', 'employment_industry',\n",
              "       'employment_occupation', 'h1n1_vaccine', 'seasonal_vaccine'],\n",
              "      dtype='object')"
            ]
          },
          "metadata": {
            "tags": []
          },
          "execution_count": 712
        }
      ]
    },
    {
      "cell_type": "code",
      "metadata": {
        "id": "T795mKbP1At7",
        "colab_type": "code",
        "outputId": "87fefd22-10ae-445e-8c47-d01f5a794fd6",
        "colab": {
          "base_uri": "https://localhost:8080/",
          "height": 721
        }
      },
      "source": [
        "# see correlations for h1n1_vaccine\n",
        "def feature_corr():\n",
        "  for i in df.columns.to_list():\n",
        "      x = (df[\"h1n1_vaccine\"]\n",
        "     .corr(df[i], method=\"pearson\"))\n",
        "      \n",
        "      if -0.05 < x < 0.05:\n",
        "        y = True\n",
        "      else: \n",
        "        y = False\n",
        "      print(i, x, y)\n",
        "\n",
        "  for i in df.columns.to_list():\n",
        "      x = (df[\"h1n1_vaccine\"]\n",
        "     .corr(df[i], method=\"pearson\"))\n",
        "  \n",
        "      if 0.05 < x:\n",
        "        print(\"'\"+str(i) +\"'\", end=', ')\n",
        "        e = \"'\" + str(i) +\"'\" \n",
        "\n",
        "#significance level is 0.01\n",
        "feature_corr()"
      ],
      "execution_count": 713,
      "outputs": [
        {
          "output_type": "stream",
          "text": [
            "h1n1_concern 0.12192918865076169 False\n",
            "h1n1_knowledge 0.11795064339844803 False\n",
            "behavioral_antiviral_meds 0.04060800327456801 True\n",
            "behavioral_avoidance 0.047689905043082126 True\n",
            "behavioral_face_mask 0.07049752145272599 False\n",
            "behavioral_wash_hands 0.07471240680630027 False\n",
            "behavioral_large_gatherings 0.017821781969168123 True\n",
            "behavioral_outside_home 0.021768050278798093 True\n",
            "behavioral_touch_face 0.07164778616525437 False\n",
            "doctor_recc_h1n1 0.39389048123870074 False\n",
            "doctor_recc_seasonal 0.20986356903654485 False\n",
            "chronic_med_condition 0.09520719150123019 False\n",
            "child_under_6_months 0.06696186123167966 False\n",
            "health_worker 0.169768050195133 False\n",
            "health_insurance 0.12116971023713823 False\n",
            "opinion_h1n1_vacc_effective 0.2693470016729776 False\n",
            "opinion_h1n1_risk 0.3232646603477815 False\n",
            "opinion_h1n1_sick_from_vacc 0.07509070100682942 False\n",
            "opinion_seas_vacc_effective 0.17927164805513024 False\n",
            "opinion_seas_risk 0.25857102154277595 False\n",
            "opinion_seas_sick_from_vacc 0.008359635564326935 True\n",
            "age_group 0.041073752960843625 True\n",
            "education 0.03661933799950586 True\n",
            "race 0.041060966230356856 True\n",
            "sex -0.020671913848382267 True\n",
            "income_poverty 0.02213269700099822 True\n",
            "marital_status -0.05276718909164669 False\n",
            "rent_or_own -0.01787190993045299 True\n",
            "employment_status -0.004591719714119205 True\n",
            "hhs_geo_region -0.0033267008457382495 True\n",
            "census_msa 0.0004204411731391255 True\n",
            "household_adults 0.00754508075589912 True\n",
            "household_children -0.0033196533527629544 True\n",
            "employment_industry -0.03384351715555819 True\n",
            "employment_occupation -0.057672191559128984 False\n",
            "h1n1_vaccine 1.0 False\n",
            "seasonal_vaccine 0.37714265306144495 False\n",
            "'h1n1_concern', 'h1n1_knowledge', 'behavioral_face_mask', 'behavioral_wash_hands', 'behavioral_touch_face', 'doctor_recc_h1n1', 'doctor_recc_seasonal', 'chronic_med_condition', 'child_under_6_months', 'health_worker', 'health_insurance', 'opinion_h1n1_vacc_effective', 'opinion_h1n1_risk', 'opinion_h1n1_sick_from_vacc', 'opinion_seas_vacc_effective', 'opinion_seas_risk', 'h1n1_vaccine', 'seasonal_vaccine', "
          ],
          "name": "stdout"
        }
      ]
    },
    {
      "cell_type": "code",
      "metadata": {
        "id": "_icddvNCAc5C",
        "colab_type": "code",
        "outputId": "04da54a8-cbd1-4eb1-c575-60b9f32292f5",
        "colab": {
          "base_uri": "https://localhost:8080/",
          "height": 721
        }
      },
      "source": [
        "# see correlations for seasonal_vaccine\n",
        "def feature_corr():\n",
        "  for i in df.columns.to_list():\n",
        "      x = (df[\"seasonal_vaccine\"]\n",
        "     .corr(df[i], method=\"pearson\"))\n",
        "      \n",
        "      if -0.05 < x < 0.05:\n",
        "        y = True\n",
        "      else: \n",
        "        y = False\n",
        "      print(i, x, y)\n",
        "\n",
        "  for i in df.columns.to_list():\n",
        "      x = (df[\"seasonal_vaccine\"]\n",
        "     .corr(df[i], method=\"pearson\"))\n",
        "  \n",
        "      if 0.05 < x or -0.05 < x :\n",
        "        print(\"'\"+str(i) +\"'\", end=', ')\n",
        "        d = \"'\" + str(i) +\"'\" \n",
        "       # return d\n",
        "\n",
        "#significance level is 0.01\n",
        "feature_corr()"
      ],
      "execution_count": 714,
      "outputs": [
        {
          "output_type": "stream",
          "text": [
            "h1n1_concern 0.15482752754531984 False\n",
            "h1n1_knowledge 0.12015163337811167 False\n",
            "behavioral_antiviral_meds 0.006276626094045238 True\n",
            "behavioral_avoidance 0.07639544075162953 False\n",
            "behavioral_face_mask 0.05008345189734373 False\n",
            "behavioral_wash_hands 0.11241423506124404 False\n",
            "behavioral_large_gatherings 0.06402527357079991 False\n",
            "behavioral_outside_home 0.053508692996077974 False\n",
            "behavioral_touch_face 0.12022754993467916 False\n",
            "doctor_recc_h1n1 0.1986072377125634 False\n",
            "doctor_recc_seasonal 0.369190095415938 False\n",
            "chronic_med_condition 0.17017435933622668 False\n",
            "child_under_6_months 0.012097071847513933 True\n",
            "health_worker 0.12731099359179554 False\n",
            "health_insurance 0.2008584684437994 False\n",
            "opinion_h1n1_vacc_effective 0.20507238369748007 False\n",
            "opinion_h1n1_risk 0.21662525069678779 False\n",
            "opinion_h1n1_sick_from_vacc 0.027404153839459724 True\n",
            "opinion_seas_vacc_effective 0.3618747273514616 False\n",
            "opinion_seas_risk 0.39010571338475786 False\n",
            "opinion_seas_sick_from_vacc -0.06151035614929928 False\n",
            "age_group 0.277454206860214 False\n",
            "education 0.0257027598125748 True\n",
            "race 0.10174271296767537 False\n",
            "sex -0.07709072219625095 False\n",
            "income_poverty -0.038408262424942455 True\n",
            "marital_status -0.05820864034373803 False\n",
            "rent_or_own -0.0668316381144714 False\n",
            "employment_status 0.06427088508528445 False\n",
            "hhs_geo_region -0.018482462204387682 True\n",
            "census_msa -0.01827519859576954 True\n",
            "household_adults -0.06483952382109222 False\n",
            "household_children -0.11461354000853527 False\n",
            "employment_industry -0.12203799064897713 False\n",
            "employment_occupation -0.12792877635093228 False\n",
            "h1n1_vaccine 0.37714265306144495 False\n",
            "seasonal_vaccine 1.0 False\n",
            "'h1n1_concern', 'h1n1_knowledge', 'behavioral_antiviral_meds', 'behavioral_avoidance', 'behavioral_face_mask', 'behavioral_wash_hands', 'behavioral_large_gatherings', 'behavioral_outside_home', 'behavioral_touch_face', 'doctor_recc_h1n1', 'doctor_recc_seasonal', 'chronic_med_condition', 'child_under_6_months', 'health_worker', 'health_insurance', 'opinion_h1n1_vacc_effective', 'opinion_h1n1_risk', 'opinion_h1n1_sick_from_vacc', 'opinion_seas_vacc_effective', 'opinion_seas_risk', 'age_group', 'education', 'race', 'income_poverty', 'employment_status', 'hhs_geo_region', 'census_msa', 'h1n1_vaccine', 'seasonal_vaccine', "
          ],
          "name": "stdout"
        }
      ]
    },
    {
      "cell_type": "code",
      "metadata": {
        "id": "Q6Sw47aLTZnH",
        "colab_type": "code",
        "outputId": "2127d45f-68f5-4d10-89ce-3416c64a8c09",
        "colab": {
          "base_uri": "https://localhost:8080/",
          "height": 35
        }
      },
      "source": [
        "len(e) "
      ],
      "execution_count": 715,
      "outputs": [
        {
          "output_type": "execute_result",
          "data": {
            "text/plain": [
              "16"
            ]
          },
          "metadata": {
            "tags": []
          },
          "execution_count": 715
        }
      ]
    },
    {
      "cell_type": "code",
      "metadata": {
        "id": "IwQE-R18OtFI",
        "colab_type": "code",
        "colab": {}
      },
      "source": [
        "#df_trainx.drop(columns = e, inplace=True)"
      ],
      "execution_count": 0,
      "outputs": []
    },
    {
      "cell_type": "code",
      "metadata": {
        "id": "7xaK0_IZU2kC",
        "colab_type": "code",
        "outputId": "e38029b3-babe-4c1a-a015-46740f8a8c3e",
        "colab": {
          "base_uri": "https://localhost:8080/",
          "height": 179
        }
      },
      "source": [
        "numeric_cols = df_trainx.columns[df_trainx.dtypes != \"object\"].values\n",
        "print(numeric_cols)"
      ],
      "execution_count": 717,
      "outputs": [
        {
          "output_type": "stream",
          "text": [
            "['h1n1_concern' 'h1n1_knowledge' 'behavioral_antiviral_meds'\n",
            " 'behavioral_avoidance' 'behavioral_face_mask' 'behavioral_wash_hands'\n",
            " 'behavioral_large_gatherings' 'behavioral_outside_home'\n",
            " 'behavioral_touch_face' 'doctor_recc_h1n1' 'doctor_recc_seasonal'\n",
            " 'chronic_med_condition' 'child_under_6_months' 'health_worker'\n",
            " 'health_insurance' 'opinion_h1n1_vacc_effective' 'opinion_h1n1_risk'\n",
            " 'opinion_h1n1_sick_from_vacc' 'opinion_seas_vacc_effective'\n",
            " 'opinion_seas_risk' 'opinion_seas_sick_from_vacc' 'household_adults'\n",
            " 'household_children']\n"
          ],
          "name": "stdout"
        }
      ]
    },
    {
      "cell_type": "code",
      "metadata": {
        "id": "0P0IDuKyUkCd",
        "colab_type": "code",
        "colab": {}
      },
      "source": [
        "# chain preprocessing into a Pipeline object\n",
        "# each step is a tuple of (name you chose, sklearn transformer)\n",
        "numeric_preprocessing_steps = Pipeline([\n",
        "    ('standard_scaler', StandardScaler()),\n",
        "    ('simple_imputer', SimpleImputer(strategy='median'))\n",
        "])\n",
        "\n",
        "# create the preprocessor stage of final pipeline\n",
        "# each entry in the transformer list is a tuple of\n",
        "# (name you choose, sklearn transformer, list of columns)\n",
        "preprocessor = ColumnTransformer(\n",
        "    transformers = [\n",
        "        (\"numeric\", numeric_preprocessing_steps, numeric_cols)\n",
        "    ],\n",
        "    remainder = \"drop\"\n",
        ")"
      ],
      "execution_count": 0,
      "outputs": []
    },
    {
      "cell_type": "code",
      "metadata": {
        "id": "gyELUpqJcUtt",
        "colab_type": "code",
        "colab": {}
      },
      "source": [
        "#Tranform Training Data\n",
        "X_pre = preprocessor.fit_transform(df_trainx)"
      ],
      "execution_count": 0,
      "outputs": []
    },
    {
      "cell_type": "code",
      "metadata": {
        "id": "VCO5IaJHdFYx",
        "colab_type": "code",
        "colab": {}
      },
      "source": [
        "#Tranform Label Data\n",
        "y_pre = df_trainy\n",
        "y_pre= np.array(y_pre)"
      ],
      "execution_count": 0,
      "outputs": []
    },
    {
      "cell_type": "code",
      "metadata": {
        "id": "wUC_gWQ0cfo4",
        "colab_type": "code",
        "colab": {}
      },
      "source": [
        "#Train Test Split\n",
        "X_pretr, X_prets, y_pretr, y_prets = train_test_split(\n",
        "    X_pre,\n",
        "    y_pre,\n",
        "    test_size=0.33,\n",
        "    shuffle=True,\n",
        "    stratify=y_pre,\n",
        "    random_state=seed\n",
        ")"
      ],
      "execution_count": 0,
      "outputs": []
    },
    {
      "cell_type": "code",
      "metadata": {
        "id": "0YE5NWuqesw4",
        "colab_type": "code",
        "outputId": "8bae5ff8-55bc-4a4d-ddf6-d2c50addfd8f",
        "colab": {
          "base_uri": "https://localhost:8080/",
          "height": 89
        }
      },
      "source": [
        "print(len(y_pretr))\n",
        "print(len(X_pretr))\n",
        "print(X_pretr.shape)\n",
        "print(y_pretr.shape)"
      ],
      "execution_count": 722,
      "outputs": [
        {
          "output_type": "stream",
          "text": [
            "17893\n",
            "17893\n",
            "(17893, 23)\n",
            "(17893, 2)\n"
          ],
          "name": "stdout"
        }
      ]
    },
    {
      "cell_type": "code",
      "metadata": {
        "id": "YyIa0GHaBhLA",
        "colab_type": "code",
        "outputId": "44da75f4-05d3-4c8a-8881-f13cc4a13676",
        "colab": {
          "base_uri": "https://localhost:8080/",
          "height": 73
        }
      },
      "source": [
        "import scipy.stats as scs\n",
        "from scipy.stats import chisquare\n",
        "#Checking if the labels are correlated\n",
        "\n",
        "def categories(series):\n",
        "    return range(int(series.min()), int(series.max()) + 1)\n",
        "\n",
        "\n",
        "def chi_square_of_df_cols(df, col1, col2):\n",
        "    df_col1, df_col2 = df[col1], df[col2]\n",
        "\n",
        "    result = [[sum((df_col1 == cat1) & (df_col2 == cat2))\n",
        "               for cat2 in categories(df_col2)]\n",
        "              for cat1 in categories(df_col1)]\n",
        "\n",
        "    return scs.chi2_contingency(result)\n",
        "\n",
        "\n",
        "print(chi_square_of_df_cols(df, 'seasonal_vaccine', 'h1n1_concern'))"
      ],
      "execution_count": 723,
      "outputs": [
        {
          "output_type": "stream",
          "text": [
            "(661.7625859400396, 4.102289002153701e-143, 3, array([[1761.25162502, 4356.63971445, 5650.86041706, 2453.24824347],\n",
            "       [1534.74837498, 3796.36028555, 4924.13958294, 2137.75175653]]))\n"
          ],
          "name": "stdout"
        }
      ]
    },
    {
      "cell_type": "code",
      "metadata": {
        "id": "NJ1OLsLWAOyi",
        "colab_type": "code",
        "outputId": "ff1fa19b-ed92-4018-b6aa-8c9d2f6f62ef",
        "colab": {
          "base_uri": "https://localhost:8080/",
          "height": 143
        }
      },
      "source": [
        "from scipy.stats import chi2_contingency\n",
        "\n",
        "def chisq_of_df_cols(df, c1, c2):\n",
        "    groupsizes = df.groupby([c1, c2]).size()\n",
        "    ctsum = groupsizes.unstack(c1)\n",
        "    # fillna(0) is necessary to remove any NAs which will cause exceptions\n",
        "    return(chi2_contingency(ctsum.fillna(0)))\n",
        "\n",
        "chisq_of_df_cols(df, 'seasonal_vaccine', 'h1n1_concern')"
      ],
      "execution_count": 724,
      "outputs": [
        {
          "output_type": "execute_result",
          "data": {
            "text/plain": [
              "(661.7625859400396,\n",
              " 4.102289002153701e-143,\n",
              " 3,\n",
              " array([[1761.25162502, 1534.74837498],\n",
              "        [4356.63971445, 3796.36028555],\n",
              "        [5650.86041706, 4924.13958294],\n",
              "        [2453.24824347, 2137.75175653]]))"
            ]
          },
          "metadata": {
            "tags": []
          },
          "execution_count": 724
        }
      ]
    },
    {
      "cell_type": "code",
      "metadata": {
        "id": "00Ge-cVbokRT",
        "colab_type": "code",
        "colab": {}
      },
      "source": [
        "epoch_size = len(X_pretr)/64"
      ],
      "execution_count": 0,
      "outputs": []
    },
    {
      "cell_type": "code",
      "metadata": {
        "id": "6ApdrxfMnYGx",
        "colab_type": "code",
        "colab": {}
      },
      "source": [
        "# create model\n",
        "model = Sequential()\n",
        "model.add(Dense(60, input_dim=23, activation='selu'))\n",
        "model.add(Dense(3, activation='selu'))\n",
        "model.add(Dense(2, activation='sigmoid'))\n",
        "# Compile model\n",
        "model.compile(loss='binary_crossentropy', optimizer='SGD', metrics=['accuracy'])"
      ],
      "execution_count": 0,
      "outputs": []
    },
    {
      "cell_type": "code",
      "metadata": {
        "id": "uEy3XILggE6T",
        "colab_type": "code",
        "colab": {}
      },
      "source": [
        "# evaluate model with standardized dataset, did not use this in this commit\n",
        "kfold = StratifiedKFold(n_splits=10, shuffle=True)"
      ],
      "execution_count": 0,
      "outputs": []
    },
    {
      "cell_type": "code",
      "metadata": {
        "id": "5BA6eA7KiJok",
        "colab_type": "code",
        "outputId": "0072a6b1-e889-4bc5-a808-b92f122ba653",
        "colab": {
          "base_uri": "https://localhost:8080/",
          "height": 1000
        }
      },
      "source": [
        "model.fit(X_pretr ,y_pretr, epochs=275, batch_size=64)"
      ],
      "execution_count": 731,
      "outputs": [
        {
          "output_type": "stream",
          "text": [
            "Epoch 1/275\n",
            "17893/17893 [==============================] - 0s 25us/step - loss: 0.6653 - accuracy: 0.6013\n",
            "Epoch 2/275\n",
            "17893/17893 [==============================] - 0s 20us/step - loss: 0.5335 - accuracy: 0.7519\n",
            "Epoch 3/275\n",
            "17893/17893 [==============================] - 0s 20us/step - loss: 0.4829 - accuracy: 0.7793\n",
            "Epoch 4/275\n",
            "17893/17893 [==============================] - 0s 20us/step - loss: 0.4637 - accuracy: 0.7879\n",
            "Epoch 5/275\n",
            "17893/17893 [==============================] - 0s 20us/step - loss: 0.4556 - accuracy: 0.7914\n",
            "Epoch 6/275\n",
            "17893/17893 [==============================] - 0s 20us/step - loss: 0.4521 - accuracy: 0.7933\n",
            "Epoch 7/275\n",
            "17893/17893 [==============================] - 0s 20us/step - loss: 0.4503 - accuracy: 0.7948\n",
            "Epoch 8/275\n",
            "17893/17893 [==============================] - 0s 21us/step - loss: 0.4495 - accuracy: 0.7953\n",
            "Epoch 9/275\n",
            "17893/17893 [==============================] - 0s 20us/step - loss: 0.4490 - accuracy: 0.7961\n",
            "Epoch 10/275\n",
            "17893/17893 [==============================] - 0s 21us/step - loss: 0.4486 - accuracy: 0.7965\n",
            "Epoch 11/275\n",
            "17893/17893 [==============================] - 0s 21us/step - loss: 0.4484 - accuracy: 0.7964\n",
            "Epoch 12/275\n",
            "17893/17893 [==============================] - 0s 21us/step - loss: 0.4482 - accuracy: 0.7966\n",
            "Epoch 13/275\n",
            "17893/17893 [==============================] - 0s 22us/step - loss: 0.4479 - accuracy: 0.7965\n",
            "Epoch 14/275\n",
            "17893/17893 [==============================] - 0s 21us/step - loss: 0.4478 - accuracy: 0.7974\n",
            "Epoch 15/275\n",
            "17893/17893 [==============================] - 0s 21us/step - loss: 0.4476 - accuracy: 0.7970\n",
            "Epoch 16/275\n",
            "17893/17893 [==============================] - 0s 21us/step - loss: 0.4475 - accuracy: 0.7973\n",
            "Epoch 17/275\n",
            "17893/17893 [==============================] - 0s 21us/step - loss: 0.4473 - accuracy: 0.7974\n",
            "Epoch 18/275\n",
            "17893/17893 [==============================] - 0s 22us/step - loss: 0.4472 - accuracy: 0.7968\n",
            "Epoch 19/275\n",
            "17893/17893 [==============================] - 0s 22us/step - loss: 0.4470 - accuracy: 0.7972\n",
            "Epoch 20/275\n",
            "17893/17893 [==============================] - 0s 22us/step - loss: 0.4469 - accuracy: 0.7973\n",
            "Epoch 21/275\n",
            "17893/17893 [==============================] - 0s 21us/step - loss: 0.4468 - accuracy: 0.7970\n",
            "Epoch 22/275\n",
            "17893/17893 [==============================] - 0s 21us/step - loss: 0.4467 - accuracy: 0.7975\n",
            "Epoch 23/275\n",
            "17893/17893 [==============================] - 0s 21us/step - loss: 0.4465 - accuracy: 0.7975\n",
            "Epoch 24/275\n",
            "17893/17893 [==============================] - 0s 21us/step - loss: 0.4465 - accuracy: 0.7978\n",
            "Epoch 25/275\n",
            "17893/17893 [==============================] - 0s 21us/step - loss: 0.4464 - accuracy: 0.7979\n",
            "Epoch 26/275\n",
            "17893/17893 [==============================] - 0s 21us/step - loss: 0.4463 - accuracy: 0.7973\n",
            "Epoch 27/275\n",
            "17893/17893 [==============================] - 0s 20us/step - loss: 0.4462 - accuracy: 0.7977\n",
            "Epoch 28/275\n",
            "17893/17893 [==============================] - 0s 21us/step - loss: 0.4461 - accuracy: 0.7977\n",
            "Epoch 29/275\n",
            "17893/17893 [==============================] - 0s 20us/step - loss: 0.4460 - accuracy: 0.7977\n",
            "Epoch 30/275\n",
            "17893/17893 [==============================] - 0s 20us/step - loss: 0.4459 - accuracy: 0.7977\n",
            "Epoch 31/275\n",
            "17893/17893 [==============================] - 0s 21us/step - loss: 0.4458 - accuracy: 0.7981\n",
            "Epoch 32/275\n",
            "17893/17893 [==============================] - 0s 20us/step - loss: 0.4457 - accuracy: 0.7979\n",
            "Epoch 33/275\n",
            "17893/17893 [==============================] - 0s 21us/step - loss: 0.4456 - accuracy: 0.7980\n",
            "Epoch 34/275\n",
            "17893/17893 [==============================] - 0s 21us/step - loss: 0.4455 - accuracy: 0.7982\n",
            "Epoch 35/275\n",
            "17893/17893 [==============================] - 0s 21us/step - loss: 0.4454 - accuracy: 0.7979\n",
            "Epoch 36/275\n",
            "17893/17893 [==============================] - 0s 20us/step - loss: 0.4454 - accuracy: 0.7979\n",
            "Epoch 37/275\n",
            "17893/17893 [==============================] - 0s 20us/step - loss: 0.4453 - accuracy: 0.7978\n",
            "Epoch 38/275\n",
            "17893/17893 [==============================] - 0s 21us/step - loss: 0.4452 - accuracy: 0.7979\n",
            "Epoch 39/275\n",
            "17893/17893 [==============================] - 0s 21us/step - loss: 0.4452 - accuracy: 0.7980\n",
            "Epoch 40/275\n",
            "17893/17893 [==============================] - 0s 21us/step - loss: 0.4451 - accuracy: 0.7979\n",
            "Epoch 41/275\n",
            "17893/17893 [==============================] - 0s 21us/step - loss: 0.4450 - accuracy: 0.7983\n",
            "Epoch 42/275\n",
            "17893/17893 [==============================] - 0s 21us/step - loss: 0.4450 - accuracy: 0.7981\n",
            "Epoch 43/275\n",
            "17893/17893 [==============================] - 0s 20us/step - loss: 0.4449 - accuracy: 0.7982\n",
            "Epoch 44/275\n",
            "17893/17893 [==============================] - 0s 20us/step - loss: 0.4448 - accuracy: 0.7977\n",
            "Epoch 45/275\n",
            "17893/17893 [==============================] - 0s 21us/step - loss: 0.4447 - accuracy: 0.7980\n",
            "Epoch 46/275\n",
            "17893/17893 [==============================] - 0s 20us/step - loss: 0.4447 - accuracy: 0.7976\n",
            "Epoch 47/275\n",
            "17893/17893 [==============================] - 0s 20us/step - loss: 0.4446 - accuracy: 0.7976\n",
            "Epoch 48/275\n",
            "17893/17893 [==============================] - 0s 20us/step - loss: 0.4446 - accuracy: 0.7975\n",
            "Epoch 49/275\n",
            "17893/17893 [==============================] - 0s 20us/step - loss: 0.4445 - accuracy: 0.7980\n",
            "Epoch 50/275\n",
            "17893/17893 [==============================] - 0s 21us/step - loss: 0.4444 - accuracy: 0.7980\n",
            "Epoch 51/275\n",
            "17893/17893 [==============================] - 0s 20us/step - loss: 0.4444 - accuracy: 0.7980\n",
            "Epoch 52/275\n",
            "17893/17893 [==============================] - 0s 20us/step - loss: 0.4443 - accuracy: 0.7984\n",
            "Epoch 53/275\n",
            "17893/17893 [==============================] - 0s 21us/step - loss: 0.4442 - accuracy: 0.7981\n",
            "Epoch 54/275\n",
            "17893/17893 [==============================] - 0s 20us/step - loss: 0.4441 - accuracy: 0.7978\n",
            "Epoch 55/275\n",
            "17893/17893 [==============================] - 0s 20us/step - loss: 0.4441 - accuracy: 0.7980\n",
            "Epoch 56/275\n",
            "17893/17893 [==============================] - 0s 21us/step - loss: 0.4440 - accuracy: 0.7984\n",
            "Epoch 57/275\n",
            "17893/17893 [==============================] - 0s 21us/step - loss: 0.4440 - accuracy: 0.7982\n",
            "Epoch 58/275\n",
            "17893/17893 [==============================] - 0s 20us/step - loss: 0.4439 - accuracy: 0.7982\n",
            "Epoch 59/275\n",
            "17893/17893 [==============================] - 0s 21us/step - loss: 0.4439 - accuracy: 0.7986\n",
            "Epoch 60/275\n",
            "17893/17893 [==============================] - 0s 20us/step - loss: 0.4438 - accuracy: 0.7987\n",
            "Epoch 61/275\n",
            "17893/17893 [==============================] - 0s 20us/step - loss: 0.4437 - accuracy: 0.7982\n",
            "Epoch 62/275\n",
            "17893/17893 [==============================] - 0s 21us/step - loss: 0.4437 - accuracy: 0.7984\n",
            "Epoch 63/275\n",
            "17893/17893 [==============================] - 0s 20us/step - loss: 0.4436 - accuracy: 0.7987\n",
            "Epoch 64/275\n",
            "17893/17893 [==============================] - 0s 21us/step - loss: 0.4436 - accuracy: 0.7984\n",
            "Epoch 65/275\n",
            "17893/17893 [==============================] - 0s 20us/step - loss: 0.4435 - accuracy: 0.7986\n",
            "Epoch 66/275\n",
            "17893/17893 [==============================] - 0s 21us/step - loss: 0.4434 - accuracy: 0.7985\n",
            "Epoch 67/275\n",
            "17893/17893 [==============================] - 0s 21us/step - loss: 0.4434 - accuracy: 0.7989\n",
            "Epoch 68/275\n",
            "17893/17893 [==============================] - 0s 20us/step - loss: 0.4434 - accuracy: 0.7988\n",
            "Epoch 69/275\n",
            "17893/17893 [==============================] - 0s 20us/step - loss: 0.4433 - accuracy: 0.7987\n",
            "Epoch 70/275\n",
            "17893/17893 [==============================] - 0s 21us/step - loss: 0.4432 - accuracy: 0.7989\n",
            "Epoch 71/275\n",
            "17893/17893 [==============================] - 0s 21us/step - loss: 0.4432 - accuracy: 0.7989\n",
            "Epoch 72/275\n",
            "17893/17893 [==============================] - 0s 21us/step - loss: 0.4431 - accuracy: 0.7989\n",
            "Epoch 73/275\n",
            "17893/17893 [==============================] - 0s 21us/step - loss: 0.4431 - accuracy: 0.7990\n",
            "Epoch 74/275\n",
            "17893/17893 [==============================] - 0s 21us/step - loss: 0.4430 - accuracy: 0.7988\n",
            "Epoch 75/275\n",
            "17893/17893 [==============================] - 0s 21us/step - loss: 0.4429 - accuracy: 0.7987\n",
            "Epoch 76/275\n",
            "17893/17893 [==============================] - 0s 21us/step - loss: 0.4429 - accuracy: 0.7987\n",
            "Epoch 77/275\n",
            "17893/17893 [==============================] - 0s 20us/step - loss: 0.4428 - accuracy: 0.7989\n",
            "Epoch 78/275\n",
            "17893/17893 [==============================] - 0s 21us/step - loss: 0.4428 - accuracy: 0.7989\n",
            "Epoch 79/275\n",
            "17893/17893 [==============================] - 0s 20us/step - loss: 0.4427 - accuracy: 0.7988\n",
            "Epoch 80/275\n",
            "17893/17893 [==============================] - 0s 21us/step - loss: 0.4426 - accuracy: 0.7988\n",
            "Epoch 81/275\n",
            "17893/17893 [==============================] - 0s 21us/step - loss: 0.4426 - accuracy: 0.7989\n",
            "Epoch 82/275\n",
            "17893/17893 [==============================] - 0s 20us/step - loss: 0.4425 - accuracy: 0.7992\n",
            "Epoch 83/275\n",
            "17893/17893 [==============================] - 0s 22us/step - loss: 0.4425 - accuracy: 0.7990\n",
            "Epoch 84/275\n",
            "17893/17893 [==============================] - 0s 20us/step - loss: 0.4425 - accuracy: 0.7988\n",
            "Epoch 85/275\n",
            "17893/17893 [==============================] - 0s 21us/step - loss: 0.4424 - accuracy: 0.7987\n",
            "Epoch 86/275\n",
            "17893/17893 [==============================] - 0s 21us/step - loss: 0.4424 - accuracy: 0.7993\n",
            "Epoch 87/275\n",
            "17893/17893 [==============================] - 0s 20us/step - loss: 0.4423 - accuracy: 0.7994\n",
            "Epoch 88/275\n",
            "17893/17893 [==============================] - 0s 21us/step - loss: 0.4423 - accuracy: 0.7994\n",
            "Epoch 89/275\n",
            "17893/17893 [==============================] - 0s 21us/step - loss: 0.4422 - accuracy: 0.7990\n",
            "Epoch 90/275\n",
            "17893/17893 [==============================] - 0s 21us/step - loss: 0.4421 - accuracy: 0.7994\n",
            "Epoch 91/275\n",
            "17893/17893 [==============================] - 0s 21us/step - loss: 0.4421 - accuracy: 0.7988\n",
            "Epoch 92/275\n",
            "17893/17893 [==============================] - 0s 20us/step - loss: 0.4420 - accuracy: 0.7984\n",
            "Epoch 93/275\n",
            "17893/17893 [==============================] - 0s 21us/step - loss: 0.4420 - accuracy: 0.7989\n",
            "Epoch 94/275\n",
            "17893/17893 [==============================] - 0s 20us/step - loss: 0.4419 - accuracy: 0.7986\n",
            "Epoch 95/275\n",
            "17893/17893 [==============================] - 0s 21us/step - loss: 0.4419 - accuracy: 0.7989\n",
            "Epoch 96/275\n",
            "17893/17893 [==============================] - 0s 21us/step - loss: 0.4418 - accuracy: 0.7990\n",
            "Epoch 97/275\n",
            "17893/17893 [==============================] - 0s 21us/step - loss: 0.4418 - accuracy: 0.7991\n",
            "Epoch 98/275\n",
            "17893/17893 [==============================] - 0s 21us/step - loss: 0.4417 - accuracy: 0.7988\n",
            "Epoch 99/275\n",
            "17893/17893 [==============================] - 0s 20us/step - loss: 0.4417 - accuracy: 0.7987\n",
            "Epoch 100/275\n",
            "17893/17893 [==============================] - 0s 21us/step - loss: 0.4416 - accuracy: 0.7989\n",
            "Epoch 101/275\n",
            "17893/17893 [==============================] - 0s 20us/step - loss: 0.4416 - accuracy: 0.7989\n",
            "Epoch 102/275\n",
            "17893/17893 [==============================] - 0s 21us/step - loss: 0.4415 - accuracy: 0.7984\n",
            "Epoch 103/275\n",
            "17893/17893 [==============================] - 0s 20us/step - loss: 0.4415 - accuracy: 0.7986\n",
            "Epoch 104/275\n",
            "17893/17893 [==============================] - 0s 20us/step - loss: 0.4414 - accuracy: 0.7986\n",
            "Epoch 105/275\n",
            "17893/17893 [==============================] - 0s 21us/step - loss: 0.4414 - accuracy: 0.7991\n",
            "Epoch 106/275\n",
            "17893/17893 [==============================] - 0s 20us/step - loss: 0.4413 - accuracy: 0.7990\n",
            "Epoch 107/275\n",
            "17893/17893 [==============================] - 0s 21us/step - loss: 0.4413 - accuracy: 0.7986\n",
            "Epoch 108/275\n",
            "17893/17893 [==============================] - 0s 21us/step - loss: 0.4412 - accuracy: 0.7991\n",
            "Epoch 109/275\n",
            "17893/17893 [==============================] - 0s 21us/step - loss: 0.4411 - accuracy: 0.7990\n",
            "Epoch 110/275\n",
            "17893/17893 [==============================] - 0s 20us/step - loss: 0.4411 - accuracy: 0.7988\n",
            "Epoch 111/275\n",
            "17893/17893 [==============================] - 0s 20us/step - loss: 0.4411 - accuracy: 0.7992\n",
            "Epoch 112/275\n",
            "17893/17893 [==============================] - 0s 20us/step - loss: 0.4410 - accuracy: 0.7993\n",
            "Epoch 113/275\n",
            "17893/17893 [==============================] - 0s 20us/step - loss: 0.4410 - accuracy: 0.7990\n",
            "Epoch 114/275\n",
            "17893/17893 [==============================] - 0s 21us/step - loss: 0.4409 - accuracy: 0.7989\n",
            "Epoch 115/275\n",
            "17893/17893 [==============================] - 0s 20us/step - loss: 0.4409 - accuracy: 0.7987\n",
            "Epoch 116/275\n",
            "17893/17893 [==============================] - 0s 21us/step - loss: 0.4408 - accuracy: 0.7992\n",
            "Epoch 117/275\n",
            "17893/17893 [==============================] - 0s 21us/step - loss: 0.4407 - accuracy: 0.7987\n",
            "Epoch 118/275\n",
            "17893/17893 [==============================] - 0s 20us/step - loss: 0.4407 - accuracy: 0.7989\n",
            "Epoch 119/275\n",
            "17893/17893 [==============================] - 0s 21us/step - loss: 0.4406 - accuracy: 0.7994\n",
            "Epoch 120/275\n",
            "17893/17893 [==============================] - 0s 20us/step - loss: 0.4405 - accuracy: 0.7995\n",
            "Epoch 121/275\n",
            "17893/17893 [==============================] - 0s 21us/step - loss: 0.4405 - accuracy: 0.7990\n",
            "Epoch 122/275\n",
            "17893/17893 [==============================] - 0s 21us/step - loss: 0.4404 - accuracy: 0.7993\n",
            "Epoch 123/275\n",
            "17893/17893 [==============================] - 0s 20us/step - loss: 0.4404 - accuracy: 0.7994\n",
            "Epoch 124/275\n",
            "17893/17893 [==============================] - 0s 21us/step - loss: 0.4403 - accuracy: 0.7994\n",
            "Epoch 125/275\n",
            "17893/17893 [==============================] - 0s 20us/step - loss: 0.4403 - accuracy: 0.7993\n",
            "Epoch 126/275\n",
            "17893/17893 [==============================] - 0s 20us/step - loss: 0.4402 - accuracy: 0.7991\n",
            "Epoch 127/275\n",
            "17893/17893 [==============================] - 0s 21us/step - loss: 0.4402 - accuracy: 0.7998\n",
            "Epoch 128/275\n",
            "17893/17893 [==============================] - 0s 20us/step - loss: 0.4401 - accuracy: 0.7996\n",
            "Epoch 129/275\n",
            "17893/17893 [==============================] - 0s 20us/step - loss: 0.4401 - accuracy: 0.7994\n",
            "Epoch 130/275\n",
            "17893/17893 [==============================] - 0s 20us/step - loss: 0.4400 - accuracy: 0.7994\n",
            "Epoch 131/275\n",
            "17893/17893 [==============================] - 0s 20us/step - loss: 0.4400 - accuracy: 0.7990\n",
            "Epoch 132/275\n",
            "17893/17893 [==============================] - 0s 21us/step - loss: 0.4399 - accuracy: 0.7997\n",
            "Epoch 133/275\n",
            "17893/17893 [==============================] - 0s 20us/step - loss: 0.4399 - accuracy: 0.7995\n",
            "Epoch 134/275\n",
            "17893/17893 [==============================] - 0s 21us/step - loss: 0.4397 - accuracy: 0.7995\n",
            "Epoch 135/275\n",
            "17893/17893 [==============================] - 0s 21us/step - loss: 0.4397 - accuracy: 0.7999\n",
            "Epoch 136/275\n",
            "17893/17893 [==============================] - 0s 21us/step - loss: 0.4397 - accuracy: 0.7996\n",
            "Epoch 137/275\n",
            "17893/17893 [==============================] - 0s 20us/step - loss: 0.4396 - accuracy: 0.7996\n",
            "Epoch 138/275\n",
            "17893/17893 [==============================] - 0s 21us/step - loss: 0.4396 - accuracy: 0.7993\n",
            "Epoch 139/275\n",
            "17893/17893 [==============================] - 0s 20us/step - loss: 0.4394 - accuracy: 0.8007\n",
            "Epoch 140/275\n",
            "17893/17893 [==============================] - 0s 20us/step - loss: 0.4394 - accuracy: 0.8003\n",
            "Epoch 141/275\n",
            "17893/17893 [==============================] - 0s 21us/step - loss: 0.4393 - accuracy: 0.8003\n",
            "Epoch 142/275\n",
            "17893/17893 [==============================] - 0s 20us/step - loss: 0.4392 - accuracy: 0.8002\n",
            "Epoch 143/275\n",
            "17893/17893 [==============================] - 0s 20us/step - loss: 0.4392 - accuracy: 0.8003\n",
            "Epoch 144/275\n",
            "17893/17893 [==============================] - 0s 21us/step - loss: 0.4392 - accuracy: 0.8000\n",
            "Epoch 145/275\n",
            "17893/17893 [==============================] - 0s 20us/step - loss: 0.4391 - accuracy: 0.8007\n",
            "Epoch 146/275\n",
            "17893/17893 [==============================] - 0s 20us/step - loss: 0.4390 - accuracy: 0.8002\n",
            "Epoch 147/275\n",
            "17893/17893 [==============================] - 0s 21us/step - loss: 0.4389 - accuracy: 0.7999\n",
            "Epoch 148/275\n",
            "17893/17893 [==============================] - 0s 20us/step - loss: 0.4389 - accuracy: 0.8013\n",
            "Epoch 149/275\n",
            "17893/17893 [==============================] - 0s 22us/step - loss: 0.4389 - accuracy: 0.8003\n",
            "Epoch 150/275\n",
            "17893/17893 [==============================] - 0s 20us/step - loss: 0.4388 - accuracy: 0.8005\n",
            "Epoch 151/275\n",
            "17893/17893 [==============================] - 0s 20us/step - loss: 0.4387 - accuracy: 0.8008\n",
            "Epoch 152/275\n",
            "17893/17893 [==============================] - 0s 21us/step - loss: 0.4387 - accuracy: 0.8004\n",
            "Epoch 153/275\n",
            "17893/17893 [==============================] - 0s 20us/step - loss: 0.4386 - accuracy: 0.8003\n",
            "Epoch 154/275\n",
            "17893/17893 [==============================] - 0s 21us/step - loss: 0.4386 - accuracy: 0.8007\n",
            "Epoch 155/275\n",
            "17893/17893 [==============================] - 0s 21us/step - loss: 0.4385 - accuracy: 0.8009\n",
            "Epoch 156/275\n",
            "17893/17893 [==============================] - 0s 21us/step - loss: 0.4384 - accuracy: 0.8009\n",
            "Epoch 157/275\n",
            "17893/17893 [==============================] - 0s 21us/step - loss: 0.4384 - accuracy: 0.8011\n",
            "Epoch 158/275\n",
            "17893/17893 [==============================] - 0s 20us/step - loss: 0.4382 - accuracy: 0.8004\n",
            "Epoch 159/275\n",
            "17893/17893 [==============================] - 0s 21us/step - loss: 0.4382 - accuracy: 0.8011\n",
            "Epoch 160/275\n",
            "17893/17893 [==============================] - 0s 21us/step - loss: 0.4381 - accuracy: 0.8010\n",
            "Epoch 161/275\n",
            "17893/17893 [==============================] - 0s 20us/step - loss: 0.4381 - accuracy: 0.8005\n",
            "Epoch 162/275\n",
            "17893/17893 [==============================] - 0s 20us/step - loss: 0.4380 - accuracy: 0.8005\n",
            "Epoch 163/275\n",
            "17893/17893 [==============================] - 0s 21us/step - loss: 0.4379 - accuracy: 0.8006\n",
            "Epoch 164/275\n",
            "17893/17893 [==============================] - 0s 21us/step - loss: 0.4378 - accuracy: 0.8012\n",
            "Epoch 165/275\n",
            "17893/17893 [==============================] - 0s 20us/step - loss: 0.4378 - accuracy: 0.8008\n",
            "Epoch 166/275\n",
            "17893/17893 [==============================] - 0s 20us/step - loss: 0.4378 - accuracy: 0.8010\n",
            "Epoch 167/275\n",
            "17893/17893 [==============================] - 0s 20us/step - loss: 0.4377 - accuracy: 0.8017\n",
            "Epoch 168/275\n",
            "17893/17893 [==============================] - 0s 20us/step - loss: 0.4376 - accuracy: 0.8011\n",
            "Epoch 169/275\n",
            "17893/17893 [==============================] - 0s 20us/step - loss: 0.4376 - accuracy: 0.8012\n",
            "Epoch 170/275\n",
            "17893/17893 [==============================] - 0s 21us/step - loss: 0.4375 - accuracy: 0.8020\n",
            "Epoch 171/275\n",
            "17893/17893 [==============================] - 0s 21us/step - loss: 0.4374 - accuracy: 0.8018\n",
            "Epoch 172/275\n",
            "17893/17893 [==============================] - 0s 21us/step - loss: 0.4373 - accuracy: 0.8011\n",
            "Epoch 173/275\n",
            "17893/17893 [==============================] - 0s 20us/step - loss: 0.4373 - accuracy: 0.8016\n",
            "Epoch 174/275\n",
            "17893/17893 [==============================] - 0s 20us/step - loss: 0.4371 - accuracy: 0.8015\n",
            "Epoch 175/275\n",
            "17893/17893 [==============================] - 0s 21us/step - loss: 0.4372 - accuracy: 0.8016\n",
            "Epoch 176/275\n",
            "17893/17893 [==============================] - 0s 20us/step - loss: 0.4371 - accuracy: 0.8019\n",
            "Epoch 177/275\n",
            "17893/17893 [==============================] - 0s 21us/step - loss: 0.4370 - accuracy: 0.8009\n",
            "Epoch 178/275\n",
            "17893/17893 [==============================] - 0s 20us/step - loss: 0.4370 - accuracy: 0.8012\n",
            "Epoch 179/275\n",
            "17893/17893 [==============================] - 0s 21us/step - loss: 0.4369 - accuracy: 0.8010\n",
            "Epoch 180/275\n",
            "17893/17893 [==============================] - 0s 21us/step - loss: 0.4368 - accuracy: 0.8014\n",
            "Epoch 181/275\n",
            "17893/17893 [==============================] - 0s 21us/step - loss: 0.4367 - accuracy: 0.8019\n",
            "Epoch 182/275\n",
            "17893/17893 [==============================] - 0s 21us/step - loss: 0.4367 - accuracy: 0.8019\n",
            "Epoch 183/275\n",
            "17893/17893 [==============================] - 0s 20us/step - loss: 0.4365 - accuracy: 0.8019\n",
            "Epoch 184/275\n",
            "17893/17893 [==============================] - 0s 21us/step - loss: 0.4366 - accuracy: 0.8017\n",
            "Epoch 185/275\n",
            "17893/17893 [==============================] - 0s 21us/step - loss: 0.4365 - accuracy: 0.8018\n",
            "Epoch 186/275\n",
            "17893/17893 [==============================] - 0s 20us/step - loss: 0.4365 - accuracy: 0.8023\n",
            "Epoch 187/275\n",
            "17893/17893 [==============================] - 0s 20us/step - loss: 0.4363 - accuracy: 0.8018\n",
            "Epoch 188/275\n",
            "17893/17893 [==============================] - 0s 21us/step - loss: 0.4363 - accuracy: 0.8022\n",
            "Epoch 189/275\n",
            "17893/17893 [==============================] - 0s 21us/step - loss: 0.4363 - accuracy: 0.8017\n",
            "Epoch 190/275\n",
            "17893/17893 [==============================] - 0s 21us/step - loss: 0.4361 - accuracy: 0.8016\n",
            "Epoch 191/275\n",
            "17893/17893 [==============================] - 0s 21us/step - loss: 0.4361 - accuracy: 0.8016\n",
            "Epoch 192/275\n",
            "17893/17893 [==============================] - 0s 20us/step - loss: 0.4360 - accuracy: 0.8020\n",
            "Epoch 193/275\n",
            "17893/17893 [==============================] - 0s 20us/step - loss: 0.4359 - accuracy: 0.8018\n",
            "Epoch 194/275\n",
            "17893/17893 [==============================] - 0s 21us/step - loss: 0.4360 - accuracy: 0.8023\n",
            "Epoch 195/275\n",
            "17893/17893 [==============================] - 0s 20us/step - loss: 0.4357 - accuracy: 0.8017\n",
            "Epoch 196/275\n",
            "17893/17893 [==============================] - 0s 20us/step - loss: 0.4358 - accuracy: 0.8019\n",
            "Epoch 197/275\n",
            "17893/17893 [==============================] - 0s 21us/step - loss: 0.4357 - accuracy: 0.8021\n",
            "Epoch 198/275\n",
            "17893/17893 [==============================] - 0s 20us/step - loss: 0.4357 - accuracy: 0.8021\n",
            "Epoch 199/275\n",
            "17893/17893 [==============================] - 0s 21us/step - loss: 0.4354 - accuracy: 0.8030\n",
            "Epoch 200/275\n",
            "17893/17893 [==============================] - 0s 21us/step - loss: 0.4355 - accuracy: 0.8024\n",
            "Epoch 201/275\n",
            "17893/17893 [==============================] - 0s 20us/step - loss: 0.4355 - accuracy: 0.8013\n",
            "Epoch 202/275\n",
            "17893/17893 [==============================] - 0s 21us/step - loss: 0.4354 - accuracy: 0.8024\n",
            "Epoch 203/275\n",
            "17893/17893 [==============================] - 0s 21us/step - loss: 0.4353 - accuracy: 0.8019\n",
            "Epoch 204/275\n",
            "17893/17893 [==============================] - 0s 22us/step - loss: 0.4353 - accuracy: 0.8022\n",
            "Epoch 205/275\n",
            "17893/17893 [==============================] - 0s 21us/step - loss: 0.4350 - accuracy: 0.8016\n",
            "Epoch 206/275\n",
            "17893/17893 [==============================] - 0s 20us/step - loss: 0.4352 - accuracy: 0.8013\n",
            "Epoch 207/275\n",
            "17893/17893 [==============================] - 0s 20us/step - loss: 0.4350 - accuracy: 0.8022\n",
            "Epoch 208/275\n",
            "17893/17893 [==============================] - 0s 20us/step - loss: 0.4350 - accuracy: 0.8025\n",
            "Epoch 209/275\n",
            "17893/17893 [==============================] - 0s 21us/step - loss: 0.4349 - accuracy: 0.8023\n",
            "Epoch 210/275\n",
            "17893/17893 [==============================] - 0s 21us/step - loss: 0.4349 - accuracy: 0.8023\n",
            "Epoch 211/275\n",
            "17893/17893 [==============================] - 0s 20us/step - loss: 0.4348 - accuracy: 0.8020\n",
            "Epoch 212/275\n",
            "17893/17893 [==============================] - 0s 20us/step - loss: 0.4347 - accuracy: 0.8017\n",
            "Epoch 213/275\n",
            "17893/17893 [==============================] - 0s 20us/step - loss: 0.4346 - accuracy: 0.8028\n",
            "Epoch 214/275\n",
            "17893/17893 [==============================] - 0s 21us/step - loss: 0.4346 - accuracy: 0.8018\n",
            "Epoch 215/275\n",
            "17893/17893 [==============================] - 0s 21us/step - loss: 0.4345 - accuracy: 0.8022\n",
            "Epoch 216/275\n",
            "17893/17893 [==============================] - 0s 20us/step - loss: 0.4344 - accuracy: 0.8025\n",
            "Epoch 217/275\n",
            "17893/17893 [==============================] - 0s 21us/step - loss: 0.4345 - accuracy: 0.8019\n",
            "Epoch 218/275\n",
            "17893/17893 [==============================] - 0s 21us/step - loss: 0.4343 - accuracy: 0.8032\n",
            "Epoch 219/275\n",
            "17893/17893 [==============================] - 0s 20us/step - loss: 0.4343 - accuracy: 0.8029\n",
            "Epoch 220/275\n",
            "17893/17893 [==============================] - 0s 20us/step - loss: 0.4342 - accuracy: 0.8024\n",
            "Epoch 221/275\n",
            "17893/17893 [==============================] - 0s 20us/step - loss: 0.4341 - accuracy: 0.8029\n",
            "Epoch 222/275\n",
            "17893/17893 [==============================] - 0s 21us/step - loss: 0.4340 - accuracy: 0.8026\n",
            "Epoch 223/275\n",
            "17893/17893 [==============================] - 0s 20us/step - loss: 0.4339 - accuracy: 0.8031\n",
            "Epoch 224/275\n",
            "17893/17893 [==============================] - 0s 21us/step - loss: 0.4338 - accuracy: 0.8025\n",
            "Epoch 225/275\n",
            "17893/17893 [==============================] - 0s 20us/step - loss: 0.4338 - accuracy: 0.8029\n",
            "Epoch 226/275\n",
            "17893/17893 [==============================] - 0s 20us/step - loss: 0.4337 - accuracy: 0.8025\n",
            "Epoch 227/275\n",
            "17893/17893 [==============================] - 0s 21us/step - loss: 0.4335 - accuracy: 0.8032\n",
            "Epoch 228/275\n",
            "17893/17893 [==============================] - 0s 20us/step - loss: 0.4335 - accuracy: 0.8028\n",
            "Epoch 229/275\n",
            "17893/17893 [==============================] - 0s 20us/step - loss: 0.4335 - accuracy: 0.8021\n",
            "Epoch 230/275\n",
            "17893/17893 [==============================] - 0s 21us/step - loss: 0.4334 - accuracy: 0.8028\n",
            "Epoch 231/275\n",
            "17893/17893 [==============================] - 0s 22us/step - loss: 0.4333 - accuracy: 0.8025\n",
            "Epoch 232/275\n",
            "17893/17893 [==============================] - 0s 21us/step - loss: 0.4333 - accuracy: 0.8025\n",
            "Epoch 233/275\n",
            "17893/17893 [==============================] - 0s 21us/step - loss: 0.4333 - accuracy: 0.8029\n",
            "Epoch 234/275\n",
            "17893/17893 [==============================] - 0s 21us/step - loss: 0.4332 - accuracy: 0.8025\n",
            "Epoch 235/275\n",
            "17893/17893 [==============================] - 0s 21us/step - loss: 0.4331 - accuracy: 0.8031\n",
            "Epoch 236/275\n",
            "17893/17893 [==============================] - 0s 21us/step - loss: 0.4330 - accuracy: 0.8035\n",
            "Epoch 237/275\n",
            "17893/17893 [==============================] - 0s 20us/step - loss: 0.4329 - accuracy: 0.8027\n",
            "Epoch 238/275\n",
            "17893/17893 [==============================] - 0s 21us/step - loss: 0.4329 - accuracy: 0.8031\n",
            "Epoch 239/275\n",
            "17893/17893 [==============================] - 0s 21us/step - loss: 0.4330 - accuracy: 0.8034\n",
            "Epoch 240/275\n",
            "17893/17893 [==============================] - 0s 20us/step - loss: 0.4329 - accuracy: 0.8024\n",
            "Epoch 241/275\n",
            "17893/17893 [==============================] - 0s 21us/step - loss: 0.4328 - accuracy: 0.8023\n",
            "Epoch 242/275\n",
            "17893/17893 [==============================] - 0s 20us/step - loss: 0.4327 - accuracy: 0.8027\n",
            "Epoch 243/275\n",
            "17893/17893 [==============================] - 0s 21us/step - loss: 0.4327 - accuracy: 0.8029\n",
            "Epoch 244/275\n",
            "17893/17893 [==============================] - 0s 21us/step - loss: 0.4325 - accuracy: 0.8029\n",
            "Epoch 245/275\n",
            "17893/17893 [==============================] - 0s 20us/step - loss: 0.4324 - accuracy: 0.8028\n",
            "Epoch 246/275\n",
            "17893/17893 [==============================] - 0s 21us/step - loss: 0.4324 - accuracy: 0.8034\n",
            "Epoch 247/275\n",
            "17893/17893 [==============================] - 0s 21us/step - loss: 0.4324 - accuracy: 0.8030\n",
            "Epoch 248/275\n",
            "17893/17893 [==============================] - 0s 21us/step - loss: 0.4323 - accuracy: 0.8034\n",
            "Epoch 249/275\n",
            "17893/17893 [==============================] - 0s 20us/step - loss: 0.4322 - accuracy: 0.8028\n",
            "Epoch 250/275\n",
            "17893/17893 [==============================] - 0s 21us/step - loss: 0.4320 - accuracy: 0.8027\n",
            "Epoch 251/275\n",
            "17893/17893 [==============================] - 0s 20us/step - loss: 0.4321 - accuracy: 0.8021\n",
            "Epoch 252/275\n",
            "17893/17893 [==============================] - 0s 20us/step - loss: 0.4320 - accuracy: 0.8027\n",
            "Epoch 253/275\n",
            "17893/17893 [==============================] - 0s 21us/step - loss: 0.4319 - accuracy: 0.8038\n",
            "Epoch 254/275\n",
            "17893/17893 [==============================] - 0s 21us/step - loss: 0.4318 - accuracy: 0.8036\n",
            "Epoch 255/275\n",
            "17893/17893 [==============================] - 0s 21us/step - loss: 0.4318 - accuracy: 0.8035\n",
            "Epoch 256/275\n",
            "17893/17893 [==============================] - 0s 20us/step - loss: 0.4316 - accuracy: 0.8045\n",
            "Epoch 257/275\n",
            "17893/17893 [==============================] - 0s 21us/step - loss: 0.4316 - accuracy: 0.8038\n",
            "Epoch 258/275\n",
            "17893/17893 [==============================] - 0s 20us/step - loss: 0.4316 - accuracy: 0.8038\n",
            "Epoch 259/275\n",
            "17893/17893 [==============================] - 0s 21us/step - loss: 0.4316 - accuracy: 0.8031\n",
            "Epoch 260/275\n",
            "17893/17893 [==============================] - 0s 20us/step - loss: 0.4314 - accuracy: 0.8034\n",
            "Epoch 261/275\n",
            "17893/17893 [==============================] - 0s 20us/step - loss: 0.4313 - accuracy: 0.8040\n",
            "Epoch 262/275\n",
            "17893/17893 [==============================] - 0s 20us/step - loss: 0.4312 - accuracy: 0.8032\n",
            "Epoch 263/275\n",
            "17893/17893 [==============================] - 0s 20us/step - loss: 0.4312 - accuracy: 0.8044\n",
            "Epoch 264/275\n",
            "17893/17893 [==============================] - 0s 21us/step - loss: 0.4311 - accuracy: 0.8038\n",
            "Epoch 265/275\n",
            "17893/17893 [==============================] - 0s 21us/step - loss: 0.4310 - accuracy: 0.8036\n",
            "Epoch 266/275\n",
            "17893/17893 [==============================] - 0s 20us/step - loss: 0.4311 - accuracy: 0.8041\n",
            "Epoch 267/275\n",
            "17893/17893 [==============================] - 0s 20us/step - loss: 0.4309 - accuracy: 0.8033\n",
            "Epoch 268/275\n",
            "17893/17893 [==============================] - 0s 21us/step - loss: 0.4308 - accuracy: 0.8032\n",
            "Epoch 269/275\n",
            "17893/17893 [==============================] - 0s 20us/step - loss: 0.4308 - accuracy: 0.8041\n",
            "Epoch 270/275\n",
            "17893/17893 [==============================] - 0s 20us/step - loss: 0.4307 - accuracy: 0.8035\n",
            "Epoch 271/275\n",
            "17893/17893 [==============================] - 0s 21us/step - loss: 0.4306 - accuracy: 0.8042\n",
            "Epoch 272/275\n",
            "17893/17893 [==============================] - 0s 20us/step - loss: 0.4305 - accuracy: 0.8037\n",
            "Epoch 273/275\n",
            "17893/17893 [==============================] - 0s 20us/step - loss: 0.4305 - accuracy: 0.8044\n",
            "Epoch 274/275\n",
            "17893/17893 [==============================] - 0s 20us/step - loss: 0.4304 - accuracy: 0.8041\n",
            "Epoch 275/275\n",
            "17893/17893 [==============================] - 0s 20us/step - loss: 0.4305 - accuracy: 0.8048\n"
          ],
          "name": "stdout"
        },
        {
          "output_type": "execute_result",
          "data": {
            "text/plain": [
              "<keras.callbacks.callbacks.History at 0x7f10050487b8>"
            ]
          },
          "metadata": {
            "tags": []
          },
          "execution_count": 731
        }
      ]
    },
    {
      "cell_type": "code",
      "metadata": {
        "id": "uz9rIK5eiLri",
        "colab_type": "code",
        "outputId": "25308bd7-1467-4c4f-e9e6-665a436ccd68",
        "colab": {
          "base_uri": "https://localhost:8080/",
          "height": 53
        }
      },
      "source": [
        "#Evaluate model\n",
        "results = model.evaluate(X_prets, y_prets, batch_size=128)\n",
        "print('test loss, test acc:', results)"
      ],
      "execution_count": 732,
      "outputs": [
        {
          "output_type": "stream",
          "text": [
            "8814/8814 [==============================] - 0s 8us/step\n",
            "test loss, test acc: [0.44380253486441784, 0.7974245548248291]\n"
          ],
          "name": "stdout"
        }
      ]
    },
    {
      "cell_type": "code",
      "metadata": {
        "id": "4k6NudVNgdbM",
        "colab_type": "code",
        "outputId": "c75ec435-4447-48d5-c54c-1b443321ef9d",
        "colab": {
          "base_uri": "https://localhost:8080/",
          "height": 35
        }
      },
      "source": [
        "#Predict the test data and look at ROC AUC \n",
        "pred_y = model.predict(X_prets)\n",
        "print(roc_auc_score(y_prets,pred_y))"
      ],
      "execution_count": 733,
      "outputs": [
        {
          "output_type": "stream",
          "text": [
            "0.8317440824667588\n"
          ],
          "name": "stdout"
        }
      ]
    },
    {
      "cell_type": "code",
      "metadata": {
        "id": "HHGijl65hDoY",
        "colab_type": "code",
        "colab": {}
      },
      "source": [
        "df_sub = pd.read_csv(path_test, index_col=0)"
      ],
      "execution_count": 0,
      "outputs": []
    },
    {
      "cell_type": "code",
      "metadata": {
        "id": "tG2eBxlEi_-P",
        "colab_type": "code",
        "outputId": "3e86c510-4d15-4f7e-bbe1-18670bee8f76",
        "colab": {
          "base_uri": "https://localhost:8080/",
          "height": 640
        }
      },
      "source": [
        "df_sub"
      ],
      "execution_count": 735,
      "outputs": [
        {
          "output_type": "execute_result",
          "data": {
            "text/html": [
              "<div>\n",
              "<style scoped>\n",
              "    .dataframe tbody tr th:only-of-type {\n",
              "        vertical-align: middle;\n",
              "    }\n",
              "\n",
              "    .dataframe tbody tr th {\n",
              "        vertical-align: top;\n",
              "    }\n",
              "\n",
              "    .dataframe thead th {\n",
              "        text-align: right;\n",
              "    }\n",
              "</style>\n",
              "<table border=\"1\" class=\"dataframe\">\n",
              "  <thead>\n",
              "    <tr style=\"text-align: right;\">\n",
              "      <th></th>\n",
              "      <th>h1n1_concern</th>\n",
              "      <th>h1n1_knowledge</th>\n",
              "      <th>behavioral_antiviral_meds</th>\n",
              "      <th>behavioral_avoidance</th>\n",
              "      <th>behavioral_face_mask</th>\n",
              "      <th>behavioral_wash_hands</th>\n",
              "      <th>behavioral_large_gatherings</th>\n",
              "      <th>behavioral_outside_home</th>\n",
              "      <th>behavioral_touch_face</th>\n",
              "      <th>doctor_recc_h1n1</th>\n",
              "      <th>doctor_recc_seasonal</th>\n",
              "      <th>chronic_med_condition</th>\n",
              "      <th>child_under_6_months</th>\n",
              "      <th>health_worker</th>\n",
              "      <th>health_insurance</th>\n",
              "      <th>opinion_h1n1_vacc_effective</th>\n",
              "      <th>opinion_h1n1_risk</th>\n",
              "      <th>opinion_h1n1_sick_from_vacc</th>\n",
              "      <th>opinion_seas_vacc_effective</th>\n",
              "      <th>opinion_seas_risk</th>\n",
              "      <th>opinion_seas_sick_from_vacc</th>\n",
              "      <th>age_group</th>\n",
              "      <th>education</th>\n",
              "      <th>race</th>\n",
              "      <th>sex</th>\n",
              "      <th>income_poverty</th>\n",
              "      <th>marital_status</th>\n",
              "      <th>rent_or_own</th>\n",
              "      <th>employment_status</th>\n",
              "      <th>hhs_geo_region</th>\n",
              "      <th>census_msa</th>\n",
              "      <th>household_adults</th>\n",
              "      <th>household_children</th>\n",
              "      <th>employment_industry</th>\n",
              "      <th>employment_occupation</th>\n",
              "    </tr>\n",
              "    <tr>\n",
              "      <th>respondent_id</th>\n",
              "      <th></th>\n",
              "      <th></th>\n",
              "      <th></th>\n",
              "      <th></th>\n",
              "      <th></th>\n",
              "      <th></th>\n",
              "      <th></th>\n",
              "      <th></th>\n",
              "      <th></th>\n",
              "      <th></th>\n",
              "      <th></th>\n",
              "      <th></th>\n",
              "      <th></th>\n",
              "      <th></th>\n",
              "      <th></th>\n",
              "      <th></th>\n",
              "      <th></th>\n",
              "      <th></th>\n",
              "      <th></th>\n",
              "      <th></th>\n",
              "      <th></th>\n",
              "      <th></th>\n",
              "      <th></th>\n",
              "      <th></th>\n",
              "      <th></th>\n",
              "      <th></th>\n",
              "      <th></th>\n",
              "      <th></th>\n",
              "      <th></th>\n",
              "      <th></th>\n",
              "      <th></th>\n",
              "      <th></th>\n",
              "      <th></th>\n",
              "      <th></th>\n",
              "      <th></th>\n",
              "    </tr>\n",
              "  </thead>\n",
              "  <tbody>\n",
              "    <tr>\n",
              "      <th>26707</th>\n",
              "      <td>2.0</td>\n",
              "      <td>2.0</td>\n",
              "      <td>0.0</td>\n",
              "      <td>1.0</td>\n",
              "      <td>0.0</td>\n",
              "      <td>1.0</td>\n",
              "      <td>1.0</td>\n",
              "      <td>0.0</td>\n",
              "      <td>1.0</td>\n",
              "      <td>0.0</td>\n",
              "      <td>0.0</td>\n",
              "      <td>0.0</td>\n",
              "      <td>0.0</td>\n",
              "      <td>0.0</td>\n",
              "      <td>1.0</td>\n",
              "      <td>5.0</td>\n",
              "      <td>1.0</td>\n",
              "      <td>1.0</td>\n",
              "      <td>5.0</td>\n",
              "      <td>1.0</td>\n",
              "      <td>1.0</td>\n",
              "      <td>35 - 44 Years</td>\n",
              "      <td>College Graduate</td>\n",
              "      <td>Hispanic</td>\n",
              "      <td>Female</td>\n",
              "      <td>&gt; $75,000</td>\n",
              "      <td>Not Married</td>\n",
              "      <td>Rent</td>\n",
              "      <td>Employed</td>\n",
              "      <td>mlyzmhmf</td>\n",
              "      <td>MSA, Not Principle  City</td>\n",
              "      <td>1.0</td>\n",
              "      <td>0.0</td>\n",
              "      <td>atmlpfrs</td>\n",
              "      <td>hfxkjkmi</td>\n",
              "    </tr>\n",
              "    <tr>\n",
              "      <th>26708</th>\n",
              "      <td>1.0</td>\n",
              "      <td>1.0</td>\n",
              "      <td>0.0</td>\n",
              "      <td>0.0</td>\n",
              "      <td>0.0</td>\n",
              "      <td>0.0</td>\n",
              "      <td>0.0</td>\n",
              "      <td>0.0</td>\n",
              "      <td>0.0</td>\n",
              "      <td>0.0</td>\n",
              "      <td>0.0</td>\n",
              "      <td>0.0</td>\n",
              "      <td>0.0</td>\n",
              "      <td>0.0</td>\n",
              "      <td>0.0</td>\n",
              "      <td>4.0</td>\n",
              "      <td>1.0</td>\n",
              "      <td>1.0</td>\n",
              "      <td>4.0</td>\n",
              "      <td>1.0</td>\n",
              "      <td>1.0</td>\n",
              "      <td>18 - 34 Years</td>\n",
              "      <td>12 Years</td>\n",
              "      <td>White</td>\n",
              "      <td>Male</td>\n",
              "      <td>Below Poverty</td>\n",
              "      <td>Not Married</td>\n",
              "      <td>Rent</td>\n",
              "      <td>Employed</td>\n",
              "      <td>bhuqouqj</td>\n",
              "      <td>Non-MSA</td>\n",
              "      <td>3.0</td>\n",
              "      <td>0.0</td>\n",
              "      <td>atmlpfrs</td>\n",
              "      <td>xqwwgdyp</td>\n",
              "    </tr>\n",
              "    <tr>\n",
              "      <th>26709</th>\n",
              "      <td>2.0</td>\n",
              "      <td>2.0</td>\n",
              "      <td>0.0</td>\n",
              "      <td>0.0</td>\n",
              "      <td>1.0</td>\n",
              "      <td>1.0</td>\n",
              "      <td>1.0</td>\n",
              "      <td>1.0</td>\n",
              "      <td>1.0</td>\n",
              "      <td>0.0</td>\n",
              "      <td>0.0</td>\n",
              "      <td>0.0</td>\n",
              "      <td>0.0</td>\n",
              "      <td>0.0</td>\n",
              "      <td>NaN</td>\n",
              "      <td>5.0</td>\n",
              "      <td>4.0</td>\n",
              "      <td>2.0</td>\n",
              "      <td>5.0</td>\n",
              "      <td>4.0</td>\n",
              "      <td>4.0</td>\n",
              "      <td>55 - 64 Years</td>\n",
              "      <td>College Graduate</td>\n",
              "      <td>White</td>\n",
              "      <td>Male</td>\n",
              "      <td>&gt; $75,000</td>\n",
              "      <td>Married</td>\n",
              "      <td>Own</td>\n",
              "      <td>Employed</td>\n",
              "      <td>lrircsnp</td>\n",
              "      <td>Non-MSA</td>\n",
              "      <td>1.0</td>\n",
              "      <td>0.0</td>\n",
              "      <td>nduyfdeo</td>\n",
              "      <td>pvmttkik</td>\n",
              "    </tr>\n",
              "    <tr>\n",
              "      <th>26710</th>\n",
              "      <td>1.0</td>\n",
              "      <td>1.0</td>\n",
              "      <td>0.0</td>\n",
              "      <td>0.0</td>\n",
              "      <td>0.0</td>\n",
              "      <td>0.0</td>\n",
              "      <td>0.0</td>\n",
              "      <td>0.0</td>\n",
              "      <td>0.0</td>\n",
              "      <td>1.0</td>\n",
              "      <td>1.0</td>\n",
              "      <td>1.0</td>\n",
              "      <td>0.0</td>\n",
              "      <td>0.0</td>\n",
              "      <td>1.0</td>\n",
              "      <td>4.0</td>\n",
              "      <td>2.0</td>\n",
              "      <td>2.0</td>\n",
              "      <td>4.0</td>\n",
              "      <td>4.0</td>\n",
              "      <td>2.0</td>\n",
              "      <td>65+ Years</td>\n",
              "      <td>12 Years</td>\n",
              "      <td>White</td>\n",
              "      <td>Female</td>\n",
              "      <td>&lt;= $75,000, Above Poverty</td>\n",
              "      <td>Married</td>\n",
              "      <td>Own</td>\n",
              "      <td>Not in Labor Force</td>\n",
              "      <td>lrircsnp</td>\n",
              "      <td>MSA, Not Principle  City</td>\n",
              "      <td>1.0</td>\n",
              "      <td>0.0</td>\n",
              "      <td>NaN</td>\n",
              "      <td>NaN</td>\n",
              "    </tr>\n",
              "    <tr>\n",
              "      <th>26711</th>\n",
              "      <td>3.0</td>\n",
              "      <td>1.0</td>\n",
              "      <td>1.0</td>\n",
              "      <td>1.0</td>\n",
              "      <td>0.0</td>\n",
              "      <td>1.0</td>\n",
              "      <td>1.0</td>\n",
              "      <td>1.0</td>\n",
              "      <td>1.0</td>\n",
              "      <td>0.0</td>\n",
              "      <td>0.0</td>\n",
              "      <td>0.0</td>\n",
              "      <td>0.0</td>\n",
              "      <td>1.0</td>\n",
              "      <td>1.0</td>\n",
              "      <td>5.0</td>\n",
              "      <td>2.0</td>\n",
              "      <td>4.0</td>\n",
              "      <td>4.0</td>\n",
              "      <td>4.0</td>\n",
              "      <td>2.0</td>\n",
              "      <td>35 - 44 Years</td>\n",
              "      <td>12 Years</td>\n",
              "      <td>Black</td>\n",
              "      <td>Female</td>\n",
              "      <td>&lt;= $75,000, Above Poverty</td>\n",
              "      <td>Not Married</td>\n",
              "      <td>Own</td>\n",
              "      <td>Employed</td>\n",
              "      <td>lzgpxyit</td>\n",
              "      <td>Non-MSA</td>\n",
              "      <td>0.0</td>\n",
              "      <td>1.0</td>\n",
              "      <td>fcxhlnwr</td>\n",
              "      <td>mxkfnird</td>\n",
              "    </tr>\n",
              "    <tr>\n",
              "      <th>...</th>\n",
              "      <td>...</td>\n",
              "      <td>...</td>\n",
              "      <td>...</td>\n",
              "      <td>...</td>\n",
              "      <td>...</td>\n",
              "      <td>...</td>\n",
              "      <td>...</td>\n",
              "      <td>...</td>\n",
              "      <td>...</td>\n",
              "      <td>...</td>\n",
              "      <td>...</td>\n",
              "      <td>...</td>\n",
              "      <td>...</td>\n",
              "      <td>...</td>\n",
              "      <td>...</td>\n",
              "      <td>...</td>\n",
              "      <td>...</td>\n",
              "      <td>...</td>\n",
              "      <td>...</td>\n",
              "      <td>...</td>\n",
              "      <td>...</td>\n",
              "      <td>...</td>\n",
              "      <td>...</td>\n",
              "      <td>...</td>\n",
              "      <td>...</td>\n",
              "      <td>...</td>\n",
              "      <td>...</td>\n",
              "      <td>...</td>\n",
              "      <td>...</td>\n",
              "      <td>...</td>\n",
              "      <td>...</td>\n",
              "      <td>...</td>\n",
              "      <td>...</td>\n",
              "      <td>...</td>\n",
              "      <td>...</td>\n",
              "    </tr>\n",
              "    <tr>\n",
              "      <th>53410</th>\n",
              "      <td>1.0</td>\n",
              "      <td>1.0</td>\n",
              "      <td>0.0</td>\n",
              "      <td>1.0</td>\n",
              "      <td>0.0</td>\n",
              "      <td>1.0</td>\n",
              "      <td>0.0</td>\n",
              "      <td>0.0</td>\n",
              "      <td>1.0</td>\n",
              "      <td>1.0</td>\n",
              "      <td>1.0</td>\n",
              "      <td>0.0</td>\n",
              "      <td>0.0</td>\n",
              "      <td>0.0</td>\n",
              "      <td>NaN</td>\n",
              "      <td>4.0</td>\n",
              "      <td>2.0</td>\n",
              "      <td>2.0</td>\n",
              "      <td>4.0</td>\n",
              "      <td>2.0</td>\n",
              "      <td>1.0</td>\n",
              "      <td>35 - 44 Years</td>\n",
              "      <td>NaN</td>\n",
              "      <td>White</td>\n",
              "      <td>Female</td>\n",
              "      <td>NaN</td>\n",
              "      <td>NaN</td>\n",
              "      <td>NaN</td>\n",
              "      <td>NaN</td>\n",
              "      <td>dqpwygqj</td>\n",
              "      <td>MSA, Principle City</td>\n",
              "      <td>1.0</td>\n",
              "      <td>1.0</td>\n",
              "      <td>NaN</td>\n",
              "      <td>NaN</td>\n",
              "    </tr>\n",
              "    <tr>\n",
              "      <th>53411</th>\n",
              "      <td>3.0</td>\n",
              "      <td>1.0</td>\n",
              "      <td>0.0</td>\n",
              "      <td>1.0</td>\n",
              "      <td>0.0</td>\n",
              "      <td>1.0</td>\n",
              "      <td>1.0</td>\n",
              "      <td>1.0</td>\n",
              "      <td>1.0</td>\n",
              "      <td>0.0</td>\n",
              "      <td>0.0</td>\n",
              "      <td>0.0</td>\n",
              "      <td>0.0</td>\n",
              "      <td>1.0</td>\n",
              "      <td>0.0</td>\n",
              "      <td>4.0</td>\n",
              "      <td>1.0</td>\n",
              "      <td>1.0</td>\n",
              "      <td>5.0</td>\n",
              "      <td>2.0</td>\n",
              "      <td>2.0</td>\n",
              "      <td>18 - 34 Years</td>\n",
              "      <td>12 Years</td>\n",
              "      <td>White</td>\n",
              "      <td>Male</td>\n",
              "      <td>Below Poverty</td>\n",
              "      <td>Married</td>\n",
              "      <td>Rent</td>\n",
              "      <td>Employed</td>\n",
              "      <td>qufhixun</td>\n",
              "      <td>Non-MSA</td>\n",
              "      <td>1.0</td>\n",
              "      <td>3.0</td>\n",
              "      <td>fcxhlnwr</td>\n",
              "      <td>vlluhbov</td>\n",
              "    </tr>\n",
              "    <tr>\n",
              "      <th>53412</th>\n",
              "      <td>0.0</td>\n",
              "      <td>1.0</td>\n",
              "      <td>0.0</td>\n",
              "      <td>0.0</td>\n",
              "      <td>0.0</td>\n",
              "      <td>0.0</td>\n",
              "      <td>0.0</td>\n",
              "      <td>0.0</td>\n",
              "      <td>0.0</td>\n",
              "      <td>0.0</td>\n",
              "      <td>0.0</td>\n",
              "      <td>0.0</td>\n",
              "      <td>0.0</td>\n",
              "      <td>0.0</td>\n",
              "      <td>1.0</td>\n",
              "      <td>4.0</td>\n",
              "      <td>3.0</td>\n",
              "      <td>1.0</td>\n",
              "      <td>4.0</td>\n",
              "      <td>3.0</td>\n",
              "      <td>1.0</td>\n",
              "      <td>18 - 34 Years</td>\n",
              "      <td>Some College</td>\n",
              "      <td>White</td>\n",
              "      <td>Female</td>\n",
              "      <td>Below Poverty</td>\n",
              "      <td>Not Married</td>\n",
              "      <td>Rent</td>\n",
              "      <td>Not in Labor Force</td>\n",
              "      <td>qufhixun</td>\n",
              "      <td>MSA, Not Principle  City</td>\n",
              "      <td>1.0</td>\n",
              "      <td>0.0</td>\n",
              "      <td>NaN</td>\n",
              "      <td>NaN</td>\n",
              "    </tr>\n",
              "    <tr>\n",
              "      <th>53413</th>\n",
              "      <td>3.0</td>\n",
              "      <td>1.0</td>\n",
              "      <td>0.0</td>\n",
              "      <td>1.0</td>\n",
              "      <td>0.0</td>\n",
              "      <td>1.0</td>\n",
              "      <td>0.0</td>\n",
              "      <td>1.0</td>\n",
              "      <td>0.0</td>\n",
              "      <td>0.0</td>\n",
              "      <td>0.0</td>\n",
              "      <td>0.0</td>\n",
              "      <td>1.0</td>\n",
              "      <td>0.0</td>\n",
              "      <td>NaN</td>\n",
              "      <td>2.0</td>\n",
              "      <td>3.0</td>\n",
              "      <td>4.0</td>\n",
              "      <td>4.0</td>\n",
              "      <td>3.0</td>\n",
              "      <td>2.0</td>\n",
              "      <td>55 - 64 Years</td>\n",
              "      <td>Some College</td>\n",
              "      <td>White</td>\n",
              "      <td>Female</td>\n",
              "      <td>&lt;= $75,000, Above Poverty</td>\n",
              "      <td>Married</td>\n",
              "      <td>Own</td>\n",
              "      <td>Not in Labor Force</td>\n",
              "      <td>bhuqouqj</td>\n",
              "      <td>MSA, Not Principle  City</td>\n",
              "      <td>1.0</td>\n",
              "      <td>0.0</td>\n",
              "      <td>NaN</td>\n",
              "      <td>NaN</td>\n",
              "    </tr>\n",
              "    <tr>\n",
              "      <th>53414</th>\n",
              "      <td>2.0</td>\n",
              "      <td>1.0</td>\n",
              "      <td>0.0</td>\n",
              "      <td>0.0</td>\n",
              "      <td>0.0</td>\n",
              "      <td>1.0</td>\n",
              "      <td>0.0</td>\n",
              "      <td>0.0</td>\n",
              "      <td>1.0</td>\n",
              "      <td>1.0</td>\n",
              "      <td>0.0</td>\n",
              "      <td>0.0</td>\n",
              "      <td>0.0</td>\n",
              "      <td>0.0</td>\n",
              "      <td>1.0</td>\n",
              "      <td>5.0</td>\n",
              "      <td>1.0</td>\n",
              "      <td>2.0</td>\n",
              "      <td>5.0</td>\n",
              "      <td>4.0</td>\n",
              "      <td>2.0</td>\n",
              "      <td>45 - 54 Years</td>\n",
              "      <td>College Graduate</td>\n",
              "      <td>White</td>\n",
              "      <td>Female</td>\n",
              "      <td>NaN</td>\n",
              "      <td>Not Married</td>\n",
              "      <td>Rent</td>\n",
              "      <td>Employed</td>\n",
              "      <td>lrircsnp</td>\n",
              "      <td>MSA, Principle City</td>\n",
              "      <td>0.0</td>\n",
              "      <td>0.0</td>\n",
              "      <td>NaN</td>\n",
              "      <td>xtkaffoo</td>\n",
              "    </tr>\n",
              "  </tbody>\n",
              "</table>\n",
              "<p>26708 rows × 35 columns</p>\n",
              "</div>"
            ],
            "text/plain": [
              "               h1n1_concern  ...  employment_occupation\n",
              "respondent_id                ...                       \n",
              "26707                   2.0  ...               hfxkjkmi\n",
              "26708                   1.0  ...               xqwwgdyp\n",
              "26709                   2.0  ...               pvmttkik\n",
              "26710                   1.0  ...                    NaN\n",
              "26711                   3.0  ...               mxkfnird\n",
              "...                     ...  ...                    ...\n",
              "53410                   1.0  ...                    NaN\n",
              "53411                   3.0  ...               vlluhbov\n",
              "53412                   0.0  ...                    NaN\n",
              "53413                   3.0  ...                    NaN\n",
              "53414                   2.0  ...               xtkaffoo\n",
              "\n",
              "[26708 rows x 35 columns]"
            ]
          },
          "metadata": {
            "tags": []
          },
          "execution_count": 735
        }
      ]
    },
    {
      "cell_type": "code",
      "metadata": {
        "id": "v77mww2TmPnp",
        "colab_type": "code",
        "colab": {}
      },
      "source": [
        "Xs = preprocessor.fit_transform(df_sub)"
      ],
      "execution_count": 0,
      "outputs": []
    },
    {
      "cell_type": "code",
      "metadata": {
        "id": "dUcBKkv4h2Bb",
        "colab_type": "code",
        "colab": {}
      },
      "source": [
        "pred = model.predict(Xs)"
      ],
      "execution_count": 0,
      "outputs": []
    },
    {
      "cell_type": "code",
      "metadata": {
        "id": "P7A7nRaJnyef",
        "colab_type": "code",
        "colab": {}
      },
      "source": [
        "sub = pd.read_csv(path_sub)\n",
        "sub.drop(columns=['h1n1_vaccine','seasonal_vaccine'], inplace=True)"
      ],
      "execution_count": 0,
      "outputs": []
    },
    {
      "cell_type": "code",
      "metadata": {
        "id": "3W9foEFnnzfN",
        "colab_type": "code",
        "colab": {}
      },
      "source": [
        "s = pd.DataFrame(pred)"
      ],
      "execution_count": 0,
      "outputs": []
    },
    {
      "cell_type": "code",
      "metadata": {
        "id": "Ykoj430jn0hm",
        "colab_type": "code",
        "colab": {}
      },
      "source": [
        "s.rename(columns={0: 'h1n1_vaccine',1: 'seasonal_vaccine'}, inplace=True)"
      ],
      "execution_count": 0,
      "outputs": []
    },
    {
      "cell_type": "code",
      "metadata": {
        "id": "eZwO5S5_kBfa",
        "colab_type": "code",
        "outputId": "c65a9213-7504-4a14-aba8-cb8d925dd260",
        "colab": {
          "base_uri": "https://localhost:8080/",
          "height": 419
        }
      },
      "source": [
        "result = pd.concat([sub, s], axis=1, sort=False)\n",
        "result"
      ],
      "execution_count": 741,
      "outputs": [
        {
          "output_type": "execute_result",
          "data": {
            "text/html": [
              "<div>\n",
              "<style scoped>\n",
              "    .dataframe tbody tr th:only-of-type {\n",
              "        vertical-align: middle;\n",
              "    }\n",
              "\n",
              "    .dataframe tbody tr th {\n",
              "        vertical-align: top;\n",
              "    }\n",
              "\n",
              "    .dataframe thead th {\n",
              "        text-align: right;\n",
              "    }\n",
              "</style>\n",
              "<table border=\"1\" class=\"dataframe\">\n",
              "  <thead>\n",
              "    <tr style=\"text-align: right;\">\n",
              "      <th></th>\n",
              "      <th>respondent_id</th>\n",
              "      <th>h1n1_vaccine</th>\n",
              "      <th>seasonal_vaccine</th>\n",
              "    </tr>\n",
              "  </thead>\n",
              "  <tbody>\n",
              "    <tr>\n",
              "      <th>0</th>\n",
              "      <td>26707</td>\n",
              "      <td>0.074865</td>\n",
              "      <td>0.415475</td>\n",
              "    </tr>\n",
              "    <tr>\n",
              "      <th>1</th>\n",
              "      <td>26708</td>\n",
              "      <td>0.035790</td>\n",
              "      <td>0.039014</td>\n",
              "    </tr>\n",
              "    <tr>\n",
              "      <th>2</th>\n",
              "      <td>26709</td>\n",
              "      <td>0.610583</td>\n",
              "      <td>0.779647</td>\n",
              "    </tr>\n",
              "    <tr>\n",
              "      <th>3</th>\n",
              "      <td>26710</td>\n",
              "      <td>0.718654</td>\n",
              "      <td>0.849266</td>\n",
              "    </tr>\n",
              "    <tr>\n",
              "      <th>4</th>\n",
              "      <td>26711</td>\n",
              "      <td>0.749869</td>\n",
              "      <td>0.822588</td>\n",
              "    </tr>\n",
              "    <tr>\n",
              "      <th>...</th>\n",
              "      <td>...</td>\n",
              "      <td>...</td>\n",
              "      <td>...</td>\n",
              "    </tr>\n",
              "    <tr>\n",
              "      <th>26703</th>\n",
              "      <td>53410</td>\n",
              "      <td>0.379648</td>\n",
              "      <td>0.566159</td>\n",
              "    </tr>\n",
              "    <tr>\n",
              "      <th>26704</th>\n",
              "      <td>53411</td>\n",
              "      <td>0.077770</td>\n",
              "      <td>0.326736</td>\n",
              "    </tr>\n",
              "    <tr>\n",
              "      <th>26705</th>\n",
              "      <td>53412</td>\n",
              "      <td>0.137192</td>\n",
              "      <td>0.349018</td>\n",
              "    </tr>\n",
              "    <tr>\n",
              "      <th>26706</th>\n",
              "      <td>53413</td>\n",
              "      <td>0.101657</td>\n",
              "      <td>0.291062</td>\n",
              "    </tr>\n",
              "    <tr>\n",
              "      <th>26707</th>\n",
              "      <td>53414</td>\n",
              "      <td>0.764564</td>\n",
              "      <td>0.792932</td>\n",
              "    </tr>\n",
              "  </tbody>\n",
              "</table>\n",
              "<p>26708 rows × 3 columns</p>\n",
              "</div>"
            ],
            "text/plain": [
              "       respondent_id  h1n1_vaccine  seasonal_vaccine\n",
              "0              26707      0.074865          0.415475\n",
              "1              26708      0.035790          0.039014\n",
              "2              26709      0.610583          0.779647\n",
              "3              26710      0.718654          0.849266\n",
              "4              26711      0.749869          0.822588\n",
              "...              ...           ...               ...\n",
              "26703          53410      0.379648          0.566159\n",
              "26704          53411      0.077770          0.326736\n",
              "26705          53412      0.137192          0.349018\n",
              "26706          53413      0.101657          0.291062\n",
              "26707          53414      0.764564          0.792932\n",
              "\n",
              "[26708 rows x 3 columns]"
            ]
          },
          "metadata": {
            "tags": []
          },
          "execution_count": 741
        }
      ]
    },
    {
      "cell_type": "code",
      "metadata": {
        "id": "EqrFLOimtmum",
        "colab_type": "code",
        "colab": {}
      },
      "source": [
        "result.to_csv('/content/sub.csv')"
      ],
      "execution_count": 0,
      "outputs": []
    },
    {
      "cell_type": "code",
      "metadata": {
        "id": "YtX1Cop4DfDH",
        "colab_type": "code",
        "colab": {}
      },
      "source": [
        "#Exploring other machine learning model accuracies\n",
        "#X_pretr, X_prets, y_pretr, y_prets  \n",
        "#clf = MultiOutputClassifier(SVC()).fit(X_pretr, y_pretr)\n",
        "clf = MultiOutputClassifier(KNeighborsClassifier()).fit(X_pretr, y_pretr)"
      ],
      "execution_count": 0,
      "outputs": []
    },
    {
      "cell_type": "code",
      "metadata": {
        "id": "JnP1goRLtwTB",
        "colab_type": "code",
        "outputId": "4fa74887-5f06-4b7e-aaaa-d577b4d7dc5c",
        "colab": {
          "base_uri": "https://localhost:8080/",
          "height": 35
        }
      },
      "source": [
        "clf.score(X_prets, y_prets)"
      ],
      "execution_count": 744,
      "outputs": [
        {
          "output_type": "execute_result",
          "data": {
            "text/plain": [
              "0.5924665305196278"
            ]
          },
          "metadata": {
            "tags": []
          },
          "execution_count": 744
        }
      ]
    },
    {
      "cell_type": "code",
      "metadata": {
        "id": "I43xen6ouPXg",
        "colab_type": "code",
        "outputId": "4c9f2bbd-d3b4-4a07-860d-a31c0a47704c",
        "colab": {
          "base_uri": "https://localhost:8080/",
          "height": 35
        }
      },
      "source": [
        "y_eval = clf.predict(X_prets)\n",
        "roc_auc_score(y_eval, y_prets)"
      ],
      "execution_count": 745,
      "outputs": [
        {
          "output_type": "execute_result",
          "data": {
            "text/plain": [
              "0.7062892749926308"
            ]
          },
          "metadata": {
            "tags": []
          },
          "execution_count": 745
        }
      ]
    },
    {
      "cell_type": "code",
      "metadata": {
        "id": "FdzFAxXkcWe7",
        "colab_type": "code",
        "colab": {}
      },
      "source": [
        ""
      ],
      "execution_count": 0,
      "outputs": []
    },
    {
      "cell_type": "code",
      "metadata": {
        "id": "sMSPznApcWyW",
        "colab_type": "code",
        "colab": {}
      },
      "source": [
        ""
      ],
      "execution_count": 0,
      "outputs": []
    }
  ]
}